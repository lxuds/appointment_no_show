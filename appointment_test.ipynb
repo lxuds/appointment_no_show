{
 "cells": [
  {
   "cell_type": "code",
   "execution_count": 1,
   "metadata": {
    "collapsed": false,
    "deletable": true,
    "editable": true
   },
   "outputs": [
    {
     "name": "stderr",
     "output_type": "stream",
     "text": [
      "/usr/lib/python2.7/dist-packages/matplotlib/__init__.py:874: UserWarning: axes.color_cycle is deprecated and replaced with axes.prop_cycle; please use the latter.\n",
      "  warnings.warn(self.msg_depr % (key, alt_key))\n"
     ]
    }
   ],
   "source": [
    "import pandas as pd\n",
    "import numpy as np\n",
    "\n",
    "import matplotlib.pyplot as plt\n",
    "import seaborn as sns\n",
    "sns.set_style('whitegrid') \n",
    "%matplotlib inline"
   ]
  },
  {
   "cell_type": "code",
   "execution_count": 213,
   "metadata": {
    "collapsed": false,
    "deletable": true,
    "editable": true
   },
   "outputs": [
    {
     "name": "stdout",
     "output_type": "stream",
     "text": [
      "<class 'pandas.core.frame.DataFrame'>\n",
      "RangeIndex: 110527 entries, 0 to 110526\n",
      "Data columns (total 14 columns):\n",
      "PatientId         110527 non-null float64\n",
      "AppointmentID     110527 non-null int64\n",
      "Gender            110527 non-null object\n",
      "ScheduledDay      110527 non-null object\n",
      "AppointmentDay    110527 non-null object\n",
      "Age               110527 non-null int64\n",
      "Neighbourhood     110527 non-null object\n",
      "Scholarship       110527 non-null int64\n",
      "Hipertension      110527 non-null int64\n",
      "Diabetes          110527 non-null int64\n",
      "Alcoholism        110527 non-null int64\n",
      "Handcap           110527 non-null int64\n",
      "SMS_received      110527 non-null int64\n",
      "No-show           110527 non-null object\n",
      "dtypes: float64(1), int64(8), object(5)\n",
      "memory usage: 11.8+ MB\n",
      "None\n"
     ]
    }
   ],
   "source": [
    "df = pd.read_csv('KaggleV2-May-2016.csv')\n",
    "#print df.head(10)\n",
    "print df.info()"
   ]
  },
  {
   "cell_type": "code",
   "execution_count": 214,
   "metadata": {
    "collapsed": false,
    "deletable": true,
    "editable": true
   },
   "outputs": [],
   "source": [
    "df['PatientId'] = df['PatientId'].astype(int) "
   ]
  },
  {
   "cell_type": "code",
   "execution_count": 215,
   "metadata": {
    "collapsed": false,
    "deletable": true,
    "editable": true
   },
   "outputs": [
    {
     "name": "stdout",
     "output_type": "stream",
     "text": [
      "62299\n"
     ]
    }
   ],
   "source": [
    "print df.PatientId.nunique()"
   ]
  },
  {
   "cell_type": "code",
   "execution_count": 267,
   "metadata": {
    "collapsed": false,
    "deletable": true,
    "editable": true
   },
   "outputs": [
    {
     "data": {
      "text/html": [
       "<div>\n",
       "<table border=\"1\" class=\"dataframe\">\n",
       "  <thead>\n",
       "    <tr style=\"text-align: right;\">\n",
       "      <th></th>\n",
       "      <th>PatientID</th>\n",
       "      <th>AppointmentID</th>\n",
       "      <th>Gender</th>\n",
       "      <th>ScheduledDay</th>\n",
       "      <th>AppointmentDay</th>\n",
       "      <th>Age</th>\n",
       "      <th>Neighbourhood</th>\n",
       "      <th>Scholarship</th>\n",
       "      <th>Hypertension</th>\n",
       "      <th>Diabetes</th>\n",
       "      <th>Alcoholism</th>\n",
       "      <th>Handicap</th>\n",
       "      <th>SMS_received</th>\n",
       "      <th>NoShow</th>\n",
       "    </tr>\n",
       "  </thead>\n",
       "  <tbody>\n",
       "    <tr>\n",
       "      <th>954</th>\n",
       "      <td>1423328986773</td>\n",
       "      <td>5217179</td>\n",
       "      <td>M</td>\n",
       "      <td>2016-01-05T11:53:44Z</td>\n",
       "      <td>2016-04-29T00:00:00Z</td>\n",
       "      <td>84</td>\n",
       "      <td>SANTO ANDRÉ</td>\n",
       "      <td>0</td>\n",
       "      <td>1</td>\n",
       "      <td>1</td>\n",
       "      <td>0</td>\n",
       "      <td>1</td>\n",
       "      <td>1</td>\n",
       "      <td>No</td>\n",
       "    </tr>\n",
       "    <tr>\n",
       "      <th>953</th>\n",
       "      <td>4616857575498</td>\n",
       "      <td>5218520</td>\n",
       "      <td>F</td>\n",
       "      <td>2016-01-05T15:02:46Z</td>\n",
       "      <td>2016-04-29T00:00:00Z</td>\n",
       "      <td>83</td>\n",
       "      <td>REDENÇÃO</td>\n",
       "      <td>0</td>\n",
       "      <td>1</td>\n",
       "      <td>0</td>\n",
       "      <td>0</td>\n",
       "      <td>0</td>\n",
       "      <td>1</td>\n",
       "      <td>No</td>\n",
       "    </tr>\n",
       "    <tr>\n",
       "      <th>959</th>\n",
       "      <td>55589627937198</td>\n",
       "      <td>5235449</td>\n",
       "      <td>F</td>\n",
       "      <td>2016-01-11T08:52:35Z</td>\n",
       "      <td>2016-04-29T00:00:00Z</td>\n",
       "      <td>74</td>\n",
       "      <td>MONTE BELO</td>\n",
       "      <td>0</td>\n",
       "      <td>0</td>\n",
       "      <td>0</td>\n",
       "      <td>0</td>\n",
       "      <td>0</td>\n",
       "      <td>1</td>\n",
       "      <td>No</td>\n",
       "    </tr>\n",
       "    <tr>\n",
       "      <th>957</th>\n",
       "      <td>91896944762663</td>\n",
       "      <td>5235643</td>\n",
       "      <td>F</td>\n",
       "      <td>2016-01-11T09:08:10Z</td>\n",
       "      <td>2016-04-29T00:00:00Z</td>\n",
       "      <td>70</td>\n",
       "      <td>GURIGICA</td>\n",
       "      <td>0</td>\n",
       "      <td>1</td>\n",
       "      <td>1</td>\n",
       "      <td>0</td>\n",
       "      <td>0</td>\n",
       "      <td>1</td>\n",
       "      <td>No</td>\n",
       "    </tr>\n",
       "    <tr>\n",
       "      <th>958</th>\n",
       "      <td>1534481873995</td>\n",
       "      <td>5235655</td>\n",
       "      <td>F</td>\n",
       "      <td>2016-01-11T09:09:10Z</td>\n",
       "      <td>2016-04-29T00:00:00Z</td>\n",
       "      <td>87</td>\n",
       "      <td>JUCUTUQUARA</td>\n",
       "      <td>0</td>\n",
       "      <td>0</td>\n",
       "      <td>0</td>\n",
       "      <td>0</td>\n",
       "      <td>0</td>\n",
       "      <td>1</td>\n",
       "      <td>No</td>\n",
       "    </tr>\n",
       "  </tbody>\n",
       "</table>\n",
       "</div>"
      ],
      "text/plain": [
       "          PatientID  AppointmentID Gender          ScheduledDay  \\\n",
       "954   1423328986773        5217179      M  2016-01-05T11:53:44Z   \n",
       "953   4616857575498        5218520      F  2016-01-05T15:02:46Z   \n",
       "959  55589627937198        5235449      F  2016-01-11T08:52:35Z   \n",
       "957  91896944762663        5235643      F  2016-01-11T09:08:10Z   \n",
       "958   1534481873995        5235655      F  2016-01-11T09:09:10Z   \n",
       "\n",
       "           AppointmentDay  Age Neighbourhood  Scholarship  Hypertension  \\\n",
       "954  2016-04-29T00:00:00Z   84   SANTO ANDRÉ            0             1   \n",
       "953  2016-04-29T00:00:00Z   83      REDENÇÃO            0             1   \n",
       "959  2016-04-29T00:00:00Z   74    MONTE BELO            0             0   \n",
       "957  2016-04-29T00:00:00Z   70      GURIGICA            0             1   \n",
       "958  2016-04-29T00:00:00Z   87   JUCUTUQUARA            0             0   \n",
       "\n",
       "     Diabetes  Alcoholism  Handicap  SMS_received NoShow  \n",
       "954         1           0         1             1     No  \n",
       "953         0           0         0             1     No  \n",
       "959         0           0         0             1     No  \n",
       "957         1           0         0             1     No  \n",
       "958         0           0         0             1     No  "
      ]
     },
     "execution_count": 267,
     "metadata": {},
     "output_type": "execute_result"
    }
   ],
   "source": [
    "df.head(5)"
   ]
  },
  {
   "cell_type": "code",
   "execution_count": 217,
   "metadata": {
    "collapsed": false,
    "deletable": true,
    "editable": true
   },
   "outputs": [
    {
     "name": "stdout",
     "output_type": "stream",
     "text": [
      "Basic statistical description of Training sets:\n"
     ]
    },
    {
     "data": {
      "text/html": [
       "<div>\n",
       "<table border=\"1\" class=\"dataframe\">\n",
       "  <thead>\n",
       "    <tr style=\"text-align: right;\">\n",
       "      <th></th>\n",
       "      <th>PatientID</th>\n",
       "      <th>AppointmentID</th>\n",
       "      <th>Age</th>\n",
       "      <th>Scholarship</th>\n",
       "      <th>Hypertension</th>\n",
       "      <th>Diabetes</th>\n",
       "      <th>Alcoholism</th>\n",
       "      <th>Handicap</th>\n",
       "      <th>SMS_received</th>\n",
       "    </tr>\n",
       "  </thead>\n",
       "  <tbody>\n",
       "    <tr>\n",
       "      <th>count</th>\n",
       "      <td>1.105270e+05</td>\n",
       "      <td>1.105270e+05</td>\n",
       "      <td>110527.000000</td>\n",
       "      <td>110527.000000</td>\n",
       "      <td>110527.000000</td>\n",
       "      <td>110527.000000</td>\n",
       "      <td>110527.000000</td>\n",
       "      <td>110527.000000</td>\n",
       "      <td>110527.000000</td>\n",
       "    </tr>\n",
       "    <tr>\n",
       "      <th>mean</th>\n",
       "      <td>1.474963e+14</td>\n",
       "      <td>5.675305e+06</td>\n",
       "      <td>37.088874</td>\n",
       "      <td>0.098266</td>\n",
       "      <td>0.197246</td>\n",
       "      <td>0.071865</td>\n",
       "      <td>0.030400</td>\n",
       "      <td>0.022248</td>\n",
       "      <td>0.321026</td>\n",
       "    </tr>\n",
       "    <tr>\n",
       "      <th>std</th>\n",
       "      <td>2.560949e+14</td>\n",
       "      <td>7.129575e+04</td>\n",
       "      <td>23.110205</td>\n",
       "      <td>0.297675</td>\n",
       "      <td>0.397921</td>\n",
       "      <td>0.258265</td>\n",
       "      <td>0.171686</td>\n",
       "      <td>0.161543</td>\n",
       "      <td>0.466873</td>\n",
       "    </tr>\n",
       "    <tr>\n",
       "      <th>min</th>\n",
       "      <td>3.921700e+04</td>\n",
       "      <td>5.030230e+06</td>\n",
       "      <td>-1.000000</td>\n",
       "      <td>0.000000</td>\n",
       "      <td>0.000000</td>\n",
       "      <td>0.000000</td>\n",
       "      <td>0.000000</td>\n",
       "      <td>0.000000</td>\n",
       "      <td>0.000000</td>\n",
       "    </tr>\n",
       "    <tr>\n",
       "      <th>25%</th>\n",
       "      <td>4.172614e+12</td>\n",
       "      <td>5.640286e+06</td>\n",
       "      <td>18.000000</td>\n",
       "      <td>0.000000</td>\n",
       "      <td>0.000000</td>\n",
       "      <td>0.000000</td>\n",
       "      <td>0.000000</td>\n",
       "      <td>0.000000</td>\n",
       "      <td>0.000000</td>\n",
       "    </tr>\n",
       "    <tr>\n",
       "      <th>50%</th>\n",
       "      <td>3.173184e+13</td>\n",
       "      <td>5.680573e+06</td>\n",
       "      <td>37.000000</td>\n",
       "      <td>0.000000</td>\n",
       "      <td>0.000000</td>\n",
       "      <td>0.000000</td>\n",
       "      <td>0.000000</td>\n",
       "      <td>0.000000</td>\n",
       "      <td>0.000000</td>\n",
       "    </tr>\n",
       "    <tr>\n",
       "      <th>75%</th>\n",
       "      <td>9.439172e+13</td>\n",
       "      <td>5.725524e+06</td>\n",
       "      <td>55.000000</td>\n",
       "      <td>0.000000</td>\n",
       "      <td>0.000000</td>\n",
       "      <td>0.000000</td>\n",
       "      <td>0.000000</td>\n",
       "      <td>0.000000</td>\n",
       "      <td>1.000000</td>\n",
       "    </tr>\n",
       "    <tr>\n",
       "      <th>max</th>\n",
       "      <td>9.999816e+14</td>\n",
       "      <td>5.790484e+06</td>\n",
       "      <td>115.000000</td>\n",
       "      <td>1.000000</td>\n",
       "      <td>1.000000</td>\n",
       "      <td>1.000000</td>\n",
       "      <td>1.000000</td>\n",
       "      <td>4.000000</td>\n",
       "      <td>1.000000</td>\n",
       "    </tr>\n",
       "  </tbody>\n",
       "</table>\n",
       "</div>"
      ],
      "text/plain": [
       "          PatientID  AppointmentID            Age    Scholarship  \\\n",
       "count  1.105270e+05   1.105270e+05  110527.000000  110527.000000   \n",
       "mean   1.474963e+14   5.675305e+06      37.088874       0.098266   \n",
       "std    2.560949e+14   7.129575e+04      23.110205       0.297675   \n",
       "min    3.921700e+04   5.030230e+06      -1.000000       0.000000   \n",
       "25%    4.172614e+12   5.640286e+06      18.000000       0.000000   \n",
       "50%    3.173184e+13   5.680573e+06      37.000000       0.000000   \n",
       "75%    9.439172e+13   5.725524e+06      55.000000       0.000000   \n",
       "max    9.999816e+14   5.790484e+06     115.000000       1.000000   \n",
       "\n",
       "        Hypertension       Diabetes     Alcoholism       Handicap  \\\n",
       "count  110527.000000  110527.000000  110527.000000  110527.000000   \n",
       "mean        0.197246       0.071865       0.030400       0.022248   \n",
       "std         0.397921       0.258265       0.171686       0.161543   \n",
       "min         0.000000       0.000000       0.000000       0.000000   \n",
       "25%         0.000000       0.000000       0.000000       0.000000   \n",
       "50%         0.000000       0.000000       0.000000       0.000000   \n",
       "75%         0.000000       0.000000       0.000000       0.000000   \n",
       "max         1.000000       1.000000       1.000000       4.000000   \n",
       "\n",
       "        SMS_received  \n",
       "count  110527.000000  \n",
       "mean        0.321026  \n",
       "std         0.466873  \n",
       "min         0.000000  \n",
       "25%         0.000000  \n",
       "50%         0.000000  \n",
       "75%         1.000000  \n",
       "max         1.000000  "
      ]
     },
     "execution_count": 217,
     "metadata": {},
     "output_type": "execute_result"
    }
   ],
   "source": [
    "df.rename(columns = {'Hipertension': 'Hypertension',\n",
    "                         'Handcap': 'Handicap',\n",
    "                         'No-show': 'NoShow',\n",
    "                         'PatientId': 'PatientID'}, inplace = True)\n",
    "\n",
    "print (\"Basic statistical description of Training sets:\")\n",
    "df.describe()"
   ]
  },
  {
   "cell_type": "code",
   "execution_count": null,
   "metadata": {
    "collapsed": true,
    "deletable": true,
    "editable": true
   },
   "outputs": [],
   "source": []
  },
  {
   "cell_type": "code",
   "execution_count": 255,
   "metadata": {
    "collapsed": false,
    "deletable": true,
    "editable": true
   },
   "outputs": [],
   "source": [
    "\n",
    "# Sort by date\n",
    "df.sort_values([\"AppointmentDay\",\"ScheduledDay\"], inplace=True, ascending=True)  \n"
   ]
  },
  {
   "cell_type": "code",
   "execution_count": 157,
   "metadata": {
    "collapsed": false,
    "deletable": true,
    "editable": true
   },
   "outputs": [
    {
     "name": "stdout",
     "output_type": "stream",
     "text": [
      "Age:\t[-1, 0, 1, 2, 3, 4, 5, 6, 7, 8, 9, 10, 11, 12, 13, 14, 15, 16, 17, 18, 19, 20, 21, 22, 23, 24, 25, 26, 27, 28, 29, 30, 31, 32, 33, 34, 35, 36, 37, 38, 39, 40, 41, 42, 43, 44, 45, 46, 47, 48, 49, 50, 51, 52, 53, 54, 55, 56, 57, 58, 59, 60, 61, 62, 63, 64, 65, 66, 67, 68, 69, 70, 71, 72, 73, 74, 75, 76, 77, 78, 79, 80, 81, 82, 83, 84, 85, 86, 87, 88, 89, 90, 91, 92, 93, 94, 95, 96, 97, 98, 99, 100, 102, 115]\n",
      "()\n",
      "Gender:\t['F' 'M']\n",
      "()\n",
      "Number of neighbourhoods:\t81\n",
      "Neighbourhood:\t['AEROPORTO', 'ANDORINHAS', 'ANT\\xc3\\x94NIO HON\\xc3\\x93RIO', 'ARIOVALDO FAVALESSA', 'BARRO VERMELHO', 'BELA VISTA', 'BENTO FERREIRA', 'BOA VISTA', 'BONFIM', 'CARATO\\xc3\\x8dRA', 'CENTRO', 'COMDUSA', 'CONQUISTA', 'CONSOLA\\xc3\\x87\\xc3\\x83O', 'CRUZAMENTO', 'DA PENHA', 'DE LOURDES', 'DO CABRAL', 'DO MOSCOSO', 'DO QUADRO', 'ENSEADA DO SU\\xc3\\x81', 'ESTRELINHA', 'FONTE GRANDE', 'FORTE S\\xc3\\x83O JO\\xc3\\x83O', 'FRADINHOS', 'GOIABEIRAS', 'GRANDE VIT\\xc3\\x93RIA', 'GURIGICA', 'HORTO', 'ILHA DAS CAIEIRAS', 'ILHA DE SANTA MARIA', 'ILHA DO BOI', 'ILHA DO FRADE', 'ILHA DO PR\\xc3\\x8dNCIPE', 'ILHAS OCE\\xc3\\x82NICAS DE TRINDADE', 'INHANGUET\\xc3\\x81', 'ITARAR\\xc3\\x89', 'JABOUR', 'JARDIM CAMBURI', 'JARDIM DA PENHA', 'JESUS DE NAZARETH', 'JOANA D\\xc2\\xb4ARC', 'JUCUTUQUARA', 'MARIA ORTIZ', 'MARU\\xc3\\x8dPE', 'MATA DA PRAIA', 'MONTE BELO', 'MORADA DE CAMBURI', 'M\\xc3\\x81RIO CYPRESTE', 'NAZARETH', 'NOVA PALESTINA', 'PARQUE INDUSTRIAL', 'PARQUE MOSCOSO', 'PIEDADE', 'PONTAL DE CAMBURI', 'PRAIA DO CANTO', 'PRAIA DO SU\\xc3\\x81', 'REDEN\\xc3\\x87\\xc3\\x83O', 'REP\\xc3\\x9aBLICA', 'RESIST\\xc3\\x8aNCIA', 'ROM\\xc3\\x83O', 'SANTA CEC\\xc3\\x8dLIA', 'SANTA CLARA', 'SANTA HELENA', 'SANTA LU\\xc3\\x8dZA', 'SANTA L\\xc3\\x9aCIA', 'SANTA MARTHA', 'SANTA TEREZA', 'SANTO ANDR\\xc3\\x89', 'SANTO ANT\\xc3\\x94NIO', 'SANTOS DUMONT', 'SANTOS REIS', 'SEGURAN\\xc3\\x87A DO LAR', 'SOLON BORGES', 'S\\xc3\\x83O BENEDITO', 'S\\xc3\\x83O CRIST\\xc3\\x93V\\xc3\\x83O', 'S\\xc3\\x83O JOS\\xc3\\x89', 'S\\xc3\\x83O PEDRO', 'TABUAZEIRO', 'UNIVERSIT\\xc3\\x81RIO', 'VILA RUBIM']\n",
      "()\n",
      "Scholarship:\t[0 1]\n",
      "Hypertension:\t[1 0]\n",
      "Diabetes:\t[0 1]\n",
      "Alcoholism:\t[0 1]\n",
      "Handicap:\t[0 1 2 3 4]\n",
      "SMS_received:\t[0 1]\n",
      "NoShow:\t['No' 'Yes']\n"
     ]
    },
    {
     "data": {
      "text/plain": [
       "No     88208\n",
       "Yes    22319\n",
       "Name: NoShow, dtype: int64"
      ]
     },
     "execution_count": 157,
     "metadata": {},
     "output_type": "execute_result"
    }
   ],
   "source": [
    "# View range of variables / unique values\n",
    "print('Age:\\t%s'%sorted(df.Age.unique()))\n",
    "print()\n",
    "print('Gender:\\t%s' %df.Gender.unique())\n",
    "print()\n",
    "print('Number of neighbourhoods:\\t%s' %df.Neighbourhood.nunique())\n",
    "print('Neighbourhood:\\t%s' %sorted(df.Neighbourhood.unique()))\n",
    "print()\n",
    "print('Scholarship:\\t%s' %df.Scholarship.unique())\n",
    "print('Hypertension:\\t%s' %df.Hypertension.unique())\n",
    "print('Diabetes:\\t%s' %df.Diabetes.unique())\n",
    "print('Alcoholism:\\t%s' %df.Alcoholism.unique())\n",
    "print('Handicap:\\t%s' %df.Handicap.unique())\n",
    "print('SMS_received:\\t%s' %df.SMS_received.unique())\n",
    "print('NoShow:\\t%s' %df.NoShow.unique())\n"
   ]
  },
  {
   "cell_type": "code",
   "execution_count": 158,
   "metadata": {
    "collapsed": false,
    "deletable": true,
    "editable": true
   },
   "outputs": [
    {
     "data": {
      "text/plain": [
       "No     88208\n",
       "Yes    22319\n",
       "Name: NoShow, dtype: int64"
      ]
     },
     "execution_count": 158,
     "metadata": {},
     "output_type": "execute_result"
    }
   ],
   "source": [
    "df.NoShow.value_counts()\n"
   ]
  },
  {
   "cell_type": "markdown",
   "metadata": {
    "deletable": true,
    "editable": true
   },
   "source": [
    "The target is unbalanced distributed. "
   ]
  },
  {
   "cell_type": "code",
   "execution_count": 44,
   "metadata": {
    "collapsed": false,
    "deletable": true,
    "editable": true
   },
   "outputs": [
    {
     "data": {
      "text/plain": [
       "PatientID         0\n",
       "AppointmentID     0\n",
       "Gender            0\n",
       "ScheduledDay      0\n",
       "AppointmentDay    0\n",
       "Age               0\n",
       "Neighbourhood     0\n",
       "Scholarship       0\n",
       "Hypertension      0\n",
       "Diabetes          0\n",
       "Alcoholism        0\n",
       "Handicap          0\n",
       "SMS_received      0\n",
       "NoShow            0\n",
       "dtype: int64"
      ]
     },
     "execution_count": 44,
     "metadata": {},
     "output_type": "execute_result"
    }
   ],
   "source": [
    "df.isnull().sum()"
   ]
  },
  {
   "cell_type": "markdown",
   "metadata": {
    "deletable": true,
    "editable": true
   },
   "source": [
    "#### Time"
   ]
  },
  {
   "cell_type": "code",
   "execution_count": 46,
   "metadata": {
    "collapsed": true,
    "deletable": true,
    "editable": true
   },
   "outputs": [],
   "source": [
    "# Convert dates\n",
    "\n",
    "df['ScheduledDay'] = df['ScheduledDay'].apply(np.datetime64)\n",
    "df['AppointmentDay'] = df['AppointmentDay'].apply(np.datetime64)\n",
    "\n",
    "# New feature = number of days between ScheduledDay and AppointmentDay\n",
    "df['Time'] = df['ScheduledDay'].sub(df['AppointmentDay'], axis = 0)\n",
    "df['Time'] = df['Time'] / np.timedelta64(1, 'D')\n",
    "df['Time'] = df['Time'].abs().apply(np.floor)"
   ]
  },
  {
   "cell_type": "code",
   "execution_count": 5,
   "metadata": {
    "collapsed": false,
    "deletable": true,
    "editable": true
   },
   "outputs": [],
   "source": [
    "#df.AppointmentDay = df.AppointmentDay.apply(np.datetime64)\n",
    "\n",
    "#df['weekday'] = df['AppointmentDay'].dt.dayofweek\n"
   ]
  },
  {
   "cell_type": "code",
   "execution_count": 61,
   "metadata": {
    "collapsed": false,
    "deletable": true,
    "editable": true
   },
   "outputs": [],
   "source": [
    "df['weekday'] = df['AppointmentDay'].dt.dayofweek\n",
    "df['month'] = pd.DatetimeIndex(df['AppointmentDay']).month\n"
   ]
  },
  {
   "cell_type": "code",
   "execution_count": 115,
   "metadata": {
    "collapsed": false,
    "deletable": true,
    "editable": true
   },
   "outputs": [
    {
     "data": {
      "text/plain": [
       "array([4, 0, 1, 2, 3, 5])"
      ]
     },
     "execution_count": 115,
     "metadata": {},
     "output_type": "execute_result"
    }
   ],
   "source": [
    "#df['month'].unique()\n",
    "df['weekday'].unique()"
   ]
  },
  {
   "cell_type": "code",
   "execution_count": 77,
   "metadata": {
    "collapsed": false,
    "deletable": true,
    "editable": true
   },
   "outputs": [],
   "source": [
    "def probStatus(dataset, group_by):\n",
    "    df1 = pd.crosstab(index = dataset[group_by], columns = dataset['NoShow']).reset_index()\n",
    "    #print df1.info()\n",
    "    #print df1.columns.values\n",
    "    \n",
    "    df1['probShowUp'] = df1['No'] / (df1['No'] + df1['Yes'])\n",
    "    #print  df1\n",
    "    return df1[[group_by, 'probShowUp']]"
   ]
  },
  {
   "cell_type": "code",
   "execution_count": 117,
   "metadata": {
    "collapsed": false,
    "deletable": true,
    "editable": true
   },
   "outputs": [
    {
     "data": {
      "image/png": "[encoded data removed]",
      "text/plain": [
       "<matplotlib.figure.Figure at 0x7fb847884490>"
      ]
     },
     "metadata": {},
     "output_type": "display_data"
    }
   ],
   "source": [
    "sns.lmplot(data = probStatus(df, 'weekday'), x = 'weekday', y = 'probShowUp', fit_reg = False, scatter_kws={'s':60})\n",
    "sns.plt.xlim(-1, 8)\n",
    "sns.plt.title('Probability of showing up with respect to  Week day')\n",
    "sns.plt.show()"
   ]
  },
  {
   "cell_type": "code",
   "execution_count": 80,
   "metadata": {
    "collapsed": true,
    "deletable": true,
    "editable": true
   },
   "outputs": [],
   "source": [
    "def probStatus1(dataset, group_by1, group_by2):\n",
    "    df1 = pd.crosstab(index = [dataset[group_by1],dataset[group_by2]], columns = dataset['NoShow']).reset_index()\n",
    "    #print df1.info()\n",
    "    #print df1.columns.values\n",
    "    \n",
    "    df1['probShowUp'] = df1['No'] / (df1['No'] + df1['Yes'])\n",
    "    #print  df1\n",
    "    return df1\n"
   ]
  },
  {
   "cell_type": "code",
   "execution_count": 75,
   "metadata": {
    "collapsed": false,
    "deletable": true,
    "editable": true
   },
   "outputs": [],
   "source": [
    "#ttt = probStatus1(df, 'weekday', 'month')"
   ]
  },
  {
   "cell_type": "code",
   "execution_count": 116,
   "metadata": {
    "collapsed": false,
    "deletable": true,
    "editable": true
   },
   "outputs": [
    {
     "data": {
      "image/png": "[encoded data removed]",
      "text/plain": [
       "<matplotlib.figure.Figure at 0x7fb845742c10>"
      ]
     },
     "metadata": {},
     "output_type": "display_data"
    }
   ],
   "source": [
    "sns.lmplot(data = probStatus1(df, 'weekday','month'), x = 'weekday', \n",
    "           y = 'probShowUp', hue='month', fit_reg = False, scatter_kws={'s':60})\n",
    "\n",
    "sns.plt.xlim(-1, 6)\n",
    "sns.plt.ylim(0.75, 0.87)\n",
    "sns.plt.title('Probability of showing up with respect to  Week day')\n",
    "sns.plt.show()"
   ]
  },
  {
   "cell_type": "code",
   "execution_count": 74,
   "metadata": {
    "collapsed": false,
    "deletable": true,
    "editable": true
   },
   "outputs": [
    {
     "data": {
      "text/plain": [
       "<matplotlib.text.Text at 0x7fb845673390>"
      ]
     },
     "execution_count": 74,
     "metadata": {},
     "output_type": "execute_result"
    },
    {
     "data": {
      "image/png": "[encoded data removed]",
      "text/plain": [
       "<matplotlib.figure.Figure at 0x7fb846b5ced0>"
      ]
     },
     "metadata": {},
     "output_type": "display_data"
    }
   ],
   "source": [
    "tmp  = df.groupby(['NoShow'])\n",
    "for name, group in tmp:\n",
    "    #print name\n",
    "    #print group.info()\n",
    "    sns.distplot(group['Time'], kde=False, norm_hist = True, label= str(name)) \n",
    "    plt.xlim(0,50)\n",
    "                 \n",
    "plt.legend()\n",
    "plt.title(\"Normalized histogram of appointment waiting time for Show/No-show\")"
   ]
  },
  {
   "cell_type": "markdown",
   "metadata": {
    "deletable": true,
    "editable": true
   },
   "source": [
    "Clearly, Awaiting time is strongly correlated to NoShow rate. The shorter waiting time shows a higer showing up rate. \n"
   ]
  },
  {
   "cell_type": "markdown",
   "metadata": {
    "deletable": true,
    "editable": true
   },
   "source": [
    "#### Age and Gender"
   ]
  },
  {
   "cell_type": "code",
   "execution_count": 101,
   "metadata": {
    "collapsed": false,
    "deletable": true,
    "editable": true
   },
   "outputs": [
    {
     "data": {
      "image/png": "[encoded data removed]",
      "text/plain": [
       "<matplotlib.figure.Figure at 0x7fb847a748d0>"
      ]
     },
     "metadata": {},
     "output_type": "display_data"
    }
   ],
   "source": [
    "sns.lmplot(data = probStatus(df, 'Age'), x = 'Age', y = 'probShowUp', fit_reg = True)\n",
    "sns.plt.xlim(0, 100)\n",
    "sns.plt.ylim(0.65, 1.05)\n",
    "sns.plt.title('Probability of showing up with respect to Age')\n",
    "sns.plt.show()\n"
   ]
  },
  {
   "cell_type": "code",
   "execution_count": 126,
   "metadata": {
    "collapsed": false,
    "deletable": true,
    "editable": true
   },
   "outputs": [
    {
     "data": {
      "image/png": "[encoded data removed]",
      "text/plain": [
       "<matplotlib.figure.Figure at 0x7fb846498f90>"
      ]
     },
     "metadata": {},
     "output_type": "display_data"
    }
   ],
   "source": [
    "sns.lmplot(data = probStatus1(df, 'Age','Gender'), x = 'Age', \n",
    "           y = 'probShowUp', hue='Gender', x_bins=range(0,100, 10), palette=\"Set1\",\n",
    "           fit_reg = True, markers=[\"o\", \"D\"], scatter_kws={'linewidths':1,'edgecolor':'k'})\n",
    "sns.plt.xlim(-1, 100)\n",
    "sns.plt.ylim(0.7,0.9)\n",
    "sns.plt.title('Probability of showing up with respect to Age')\n",
    "sns.plt.show()"
   ]
  },
  {
   "cell_type": "markdown",
   "metadata": {
    "deletable": true,
    "editable": true
   },
   "source": [
    "#### Handicap"
   ]
  },
  {
   "cell_type": "code",
   "execution_count": 112,
   "metadata": {
    "collapsed": false,
    "deletable": true,
    "editable": true
   },
   "outputs": [
    {
     "data": {
      "image/png": "[encoded data removed]",
      "text/plain": [
       "<matplotlib.figure.Figure at 0x7fb845712410>"
      ]
     },
     "metadata": {},
     "output_type": "display_data"
    }
   ],
   "source": [
    "sns.lmplot(data = probStatus(df, 'Handicap'), x = 'Handicap', \n",
    "           y = 'probShowUp', palette=\"Set1\", scatter_kws={'s':60},\n",
    "           fit_reg = True)\n",
    "sns.plt.xlim(-1, 6)\n",
    "sns.plt.ylim(0.6, 0.95)\n",
    "sns.plt.title('Probability of showing up with respect to Handicap level')\n",
    "sns.plt.show()"
   ]
  },
  {
   "cell_type": "markdown",
   "metadata": {
    "deletable": true,
    "editable": true
   },
   "source": [
    "#### Neighbourhood dependence"
   ]
  },
  {
   "cell_type": "code",
   "execution_count": 151,
   "metadata": {
    "collapsed": true,
    "deletable": true,
    "editable": true
   },
   "outputs": [],
   "source": [
    "df['Neighbourhood_num'] = df['Neighbourhood'].astype(\"category\").cat.codes\n"
   ]
  },
  {
   "cell_type": "code",
   "execution_count": 154,
   "metadata": {
    "collapsed": false,
    "deletable": true,
    "editable": true
   },
   "outputs": [
    {
     "data": {
      "image/png": "[encoded data removed]",
      "text/plain": [
       "<matplotlib.figure.Figure at 0x7fb8479f5790>"
      ]
     },
     "metadata": {},
     "output_type": "display_data"
    }
   ],
   "source": [
    "sns.lmplot(data = probStatus(df, 'Neighbourhood_num'), x = 'Neighbourhood_num', \n",
    "           y = 'probShowUp', palette=\"Set1\", scatter_kws={'s':60},\n",
    "           fit_reg = False)\n",
    "sns.plt.xlim(-1, 81)\n",
    "sns.plt.ylim(0.6, 0.95)\n",
    "sns.plt.title('Probability of showing up with respect to Neighbourhood')\n",
    "sns.plt.show()"
   ]
  },
  {
   "cell_type": "markdown",
   "metadata": {
    "deletable": true,
    "editable": true
   },
   "source": [
    "#### Check other Categorical variable dependence:\n",
    "    'Diabetes', 'Alcoholism', 'Hypertension', 'SMS_received',  'Scholarship"
   ]
  },
  {
   "cell_type": "code",
   "execution_count": 168,
   "metadata": {
    "collapsed": false,
    "deletable": true,
    "editable": true
   },
   "outputs": [
    {
     "data": {
      "image/png": "[encoded data removed]",
      "text/plain": [
       "<matplotlib.figure.Figure at 0x7fb847a92bd0>"
      ]
     },
     "metadata": {},
     "output_type": "display_data"
    }
   ],
   "source": [
    "def probStatusCategorical(group_by):\n",
    "    rows = []\n",
    "    for item in group_by:\n",
    "        for level in df[item].unique():\n",
    "            row = {'Condition': item}\n",
    "            total = len(df[df[item] == level])\n",
    "            n = len(df[(df[item] == level) & (df.NoShow == 'No')])\n",
    "            row.update({'Level': level, 'ShowupProbability': n / float(total)})\n",
    "            rows.append(row)\n",
    "    return pd.DataFrame(rows)\n",
    "\n",
    "\n",
    "sns.barplot(data = probStatusCategorical(['Diabetes', 'Alcoholism', 'Hypertension',\n",
    "                                         'SMS_received',  'Scholarship']),\n",
    "            x = 'Condition', y = 'ShowupProbability', hue = 'Level', palette = 'Set1')\n",
    "#sns.plt.xlim(-1, 6)\n",
    "sns.plt.ylim(0.6, 0.9)\n",
    "sns.plt.title('Probability of showing up')\n",
    "sns.plt.ylabel('Probability')\n",
    "sns.plt.show()"
   ]
  },
  {
   "cell_type": "markdown",
   "metadata": {
    "collapsed": true,
    "deletable": true,
    "editable": true
   },
   "source": [
    "Except alcoholism, other categorical variables seem more or less influence the showup probability"
   ]
  },
  {
   "cell_type": "code",
   "execution_count": 172,
   "metadata": {
    "collapsed": false,
    "deletable": true,
    "editable": true
   },
   "outputs": [],
   "source": [
    "df['NoShow'] = df['NoShow'].astype(\"category\").cat.codes\n",
    "# Yes - 1 No show;  No - 0 Show\n",
    "# New feature = missed previous appointment\n",
    "df['prev_appMissed'] = df.groupby('PatientID')['NoShow'].apply(lambda x: x.shift(-1) == 1)\n",
    "df.prev_appMissed = df.prev_appMissed.astype(int)\n",
    "\n"
   ]
  },
  {
   "cell_type": "code",
   "execution_count": 173,
   "metadata": {
    "collapsed": true,
    "deletable": true,
    "editable": true
   },
   "outputs": [],
   "source": [
    "# New feature = number of appointments missed by patient\n",
    "df['n_appMissed'] = df.groupby('PatientID')['NoShow'].apply(lambda x.shift(-1): x.cumsum())\n",
    "df['n_appPrevious'] = df.groupby('PatientID')['NoShow'].apply(lambda x: (x.shift(-1)*0+1).cumsum())\n",
    "\n",
    "\n",
    "\n",
    "df['appPreviousMissedRatio'] = df['n_appMissed']/df['n_appPrevious'].astype(float)"
   ]
  },
  {
   "cell_type": "code",
   "execution_count": 184,
   "metadata": {
    "collapsed": false,
    "deletable": true,
    "editable": true
   },
   "outputs": [],
   "source": [
    "df['n_appPrevious'] = df.groupby('PatientID')['NoShow'].apply(lambda x: (x*0+1).cumsum())\n"
   ]
  },
  {
   "cell_type": "code",
   "execution_count": 218,
   "metadata": {
    "collapsed": false,
    "deletable": true,
    "editable": true
   },
   "outputs": [
    {
     "name": "stdout",
     "output_type": "stream",
     "text": [
      "Mean number of appointments per patient per day:\t1.77413762661\n"
     ]
    }
   ],
   "source": [
    "y = df.groupby('PatientID')['AppointmentID'].nunique()\n",
    "print('Mean number of appointments per patient per day:\\t%s' %np.mean(y))\n"
   ]
  },
  {
   "cell_type": "code",
   "execution_count": 250,
   "metadata": {
    "collapsed": false,
    "deletable": true,
    "editable": true
   },
   "outputs": [
    {
     "data": {
      "text/plain": [
       "(0, 10)"
      ]
     },
     "execution_count": 250,
     "metadata": {},
     "output_type": "execute_result"
    },
    {
     "data": {
      "image/png": "[encoded data removed]",
      "text/plain": [
       "<matplotlib.figure.Figure at 0x7fb845433550>"
      ]
     },
     "metadata": {},
     "output_type": "display_data"
    }
   ],
   "source": [
    "sns.distplot(y, kde=False, norm_hist = True) \n",
    "plt.xlim(0,10)"
   ]
  },
  {
   "cell_type": "code",
   "execution_count": 241,
   "metadata": {
    "collapsed": false,
    "deletable": true,
    "editable": true
   },
   "outputs": [],
   "source": [
    "tmp = y.value_counts(sort=True)\n",
    "df1 = pd.DataFrame({'patientTotApp':tmp.index, 'histNum':tmp.values})"
   ]
  },
  {
   "cell_type": "code",
   "execution_count": 245,
   "metadata": {
    "collapsed": false,
    "deletable": true,
    "editable": true,
    "scrolled": true
   },
   "outputs": [
    {
     "name": "stdout",
     "output_type": "stream",
     "text": [
      "62299\n"
     ]
    }
   ],
   "source": [
    "print df1.histNum.sum()"
   ]
  },
  {
   "cell_type": "code",
   "execution_count": 253,
   "metadata": {
    "collapsed": false,
    "deletable": true,
    "editable": true
   },
   "outputs": [
    {
     "data": {
      "text/plain": [
       "1     37920\n",
       "2     13895\n",
       "3      5500\n",
       "4      2367\n",
       "5      1119\n",
       "6       553\n",
       "7       306\n",
       "8       202\n",
       "9       104\n",
       "10       85\n",
       "11       63\n",
       "12       36\n",
       "13       35\n",
       "14       22\n",
       "15       15\n",
       "17       10\n",
       "16       10\n",
       "20        8\n",
       "18        8\n",
       "19        6\n",
       "62        4\n",
       "21        3\n",
       "23        2\n",
       "30        2\n",
       "46        2\n",
       "38        2\n",
       "42        2\n",
       "34        2\n",
       "57        1\n",
       "35        1\n",
       "65        1\n",
       "29        1\n",
       "24        1\n",
       "33        1\n",
       "88        1\n",
       "51        1\n",
       "37        1\n",
       "55        1\n",
       "70        1\n",
       "54        1\n",
       "22        1\n",
       "84        1\n",
       "50        1\n",
       "40        1\n",
       "Name: AppointmentID, dtype: int64"
      ]
     },
     "execution_count": 253,
     "metadata": {},
     "output_type": "execute_result"
    }
   ],
   "source": [
    "tmp"
   ]
  },
  {
   "cell_type": "code",
   "execution_count": 187,
   "metadata": {
    "collapsed": false,
    "deletable": true,
    "editable": true
   },
   "outputs": [
    {
     "data": {
      "text/plain": [
       "array([ 1,  2,  3,  4,  5,  6,  7,  8,  9, 10, 11, 12, 13, 14, 15, 16, 17,\n",
       "       18, 19, 20, 21, 22, 23, 24, 25, 26, 27, 28, 29, 30, 31, 32, 33, 34,\n",
       "       35, 36, 37, 38, 39, 40, 41, 42, 43, 44, 45, 46, 47, 48, 49, 50, 51,\n",
       "       52, 53, 54, 55, 56, 57, 58, 59, 60, 61, 62, 63, 64, 65, 66, 67, 68,\n",
       "       69, 70, 71, 72, 73, 74, 75, 76, 77, 78, 79, 80, 81, 82, 83, 84, 85,\n",
       "       86, 87, 88])"
      ]
     },
     "execution_count": 187,
     "metadata": {},
     "output_type": "execute_result"
    }
   ],
   "source": [
    "df['n_appPrevious'].unique()"
   ]
  },
  {
   "cell_type": "code",
   "execution_count": null,
   "metadata": {
    "collapsed": true,
    "deletable": true,
    "editable": true
   },
   "outputs": [],
   "source": []
  },
  {
   "cell_type": "code",
   "execution_count": null,
   "metadata": {
    "collapsed": true,
    "deletable": true,
    "editable": true
   },
   "outputs": [],
   "source": []
  },
  {
   "cell_type": "code",
   "execution_count": 179,
   "metadata": {
    "collapsed": false,
    "deletable": true,
    "editable": true
   },
   "outputs": [
    {
     "data": {
      "text/plain": [
       "<matplotlib.text.Text at 0x7fb82a91a450>"
      ]
     },
     "execution_count": 179,
     "metadata": {},
     "output_type": "execute_result"
    },
    {
     "data": {
      "image/png": "[encoded data removed]",
      "text/plain": [
       "<matplotlib.figure.Figure at 0x7fb83567d490>"
      ]
     },
     "metadata": {},
     "output_type": "display_data"
    }
   ],
   "source": [
    "tmp  = df.groupby(['NoShow'])\n",
    "for name, group in tmp:\n",
    "    #print name\n",
    "    #print group.info()\n",
    "    sns.distplot(group['appPreviousMissedRatio'], kde=False, norm_hist = True, label= str(name)) \n",
    "    plt.xlim(0,1)\n",
    "                 \n",
    "plt.legend()\n",
    "plt.title(\"Normalized histogram of appointment waiting time for Show/No-show\")"
   ]
  },
  {
   "cell_type": "code",
   "execution_count": 197,
   "metadata": {
    "collapsed": false,
    "deletable": true,
    "editable": true
   },
   "outputs": [
    {
     "name": "stdout",
     "output_type": "stream",
     "text": [
      "Mean number of appointments per patient :\t1.77413762661\n"
     ]
    },
    {
     "data": {
      "text/plain": [
       "<function matplotlib.pyplot.show>"
      ]
     },
     "execution_count": 197,
     "metadata": {},
     "output_type": "execute_result"
    },
    {
     "data": {
      "image/png": "[encoded data removed]",
      "text/plain": [
       "<matplotlib.figure.Figure at 0x7fb845dc6510>"
      ]
     },
     "metadata": {},
     "output_type": "display_data"
    }
   ],
   "source": [
    "y = df.groupby('PatientID')['AppointmentID'].nunique()\n",
    "print('Mean number of appointments per patient :\\t%s' %np.mean(y))\n",
    "\n",
    "plt.figure(1)\n",
    "\n",
    "plt.hist(y, bins = y.nunique()*4)\n",
    "plt.title(\"Number of Appointments per patient \")\n",
    "plt.xlim(0,10)\n",
    "plt.show\n"
   ]
  },
  {
   "cell_type": "markdown",
   "metadata": {
    "deletable": true,
    "editable": true
   },
   "source": [
    "Most patient has only one appointment"
   ]
  },
  {
   "cell_type": "code",
   "execution_count": 256,
   "metadata": {
    "collapsed": false,
    "deletable": true,
    "editable": true
   },
   "outputs": [],
   "source": [
    "df_multiApp = df.groupby('PatientID').filter(lambda x: len(x) > 1)"
   ]
  },
  {
   "cell_type": "code",
   "execution_count": 252,
   "metadata": {
    "collapsed": false,
    "deletable": true,
    "editable": true
   },
   "outputs": [
    {
     "data": {
      "text/plain": [
       "(72607, 14)"
      ]
     },
     "execution_count": 252,
     "metadata": {},
     "output_type": "execute_result"
    }
   ],
   "source": [
    "df_multiApp.shape"
   ]
  },
  {
   "cell_type": "code",
   "execution_count": 3,
   "metadata": {
    "collapsed": false,
    "deletable": true,
    "editable": true
   },
   "outputs": [],
   "source": [
    "import pandas as pd\n",
    "dftest = pd.DataFrame({'dat': ['2016-06-29T00:00:00Z', '2016-06-29T00:00:00Z', '2016-04-30T00:00:00Z', \n",
    "                               '2016-05-01T00:00:00Z', '2016-05-29T00:00:00Z', \n",
    "                               '2016-05-30T00:00:00Z', '2016-03-29T00:00:00Z'],\n",
    "                       'id': ['a', 'a', 'a', 'b', 'b','b','c'], 's':[1,2,3,4,5,6, 7]})"
   ]
  },
  {
   "cell_type": "code",
   "execution_count": 11,
   "metadata": {
    "collapsed": false,
    "deletable": true,
    "editable": true
   },
   "outputs": [],
   "source": [
    "data= dftest.groupby(['id','dat'])['s']\n",
    "dftest['nnn'] = data.transform(lambda x: x.nunique())"
   ]
  },
  {
   "cell_type": "code",
   "execution_count": 14,
   "metadata": {
    "collapsed": false
   },
   "outputs": [
    {
     "data": {
      "text/html": [
       "<div>\n",
       "<table border=\"1\" class=\"dataframe\">\n",
       "  <thead>\n",
       "    <tr style=\"text-align: right;\">\n",
       "      <th></th>\n",
       "      <th>dat</th>\n",
       "      <th>id</th>\n",
       "      <th>s</th>\n",
       "      <th>nnn</th>\n",
       "    </tr>\n",
       "  </thead>\n",
       "  <tbody>\n",
       "    <tr>\n",
       "      <th>0</th>\n",
       "      <td>2016-06-29T00:00:00Z</td>\n",
       "      <td>a</td>\n",
       "      <td>1</td>\n",
       "      <td>2</td>\n",
       "    </tr>\n",
       "    <tr>\n",
       "      <th>1</th>\n",
       "      <td>2016-06-29T00:00:00Z</td>\n",
       "      <td>a</td>\n",
       "      <td>2</td>\n",
       "      <td>2</td>\n",
       "    </tr>\n",
       "    <tr>\n",
       "      <th>2</th>\n",
       "      <td>2016-04-30T00:00:00Z</td>\n",
       "      <td>a</td>\n",
       "      <td>3</td>\n",
       "      <td>1</td>\n",
       "    </tr>\n",
       "    <tr>\n",
       "      <th>3</th>\n",
       "      <td>2016-05-01T00:00:00Z</td>\n",
       "      <td>b</td>\n",
       "      <td>4</td>\n",
       "      <td>1</td>\n",
       "    </tr>\n",
       "    <tr>\n",
       "      <th>4</th>\n",
       "      <td>2016-05-29T00:00:00Z</td>\n",
       "      <td>b</td>\n",
       "      <td>5</td>\n",
       "      <td>1</td>\n",
       "    </tr>\n",
       "    <tr>\n",
       "      <th>5</th>\n",
       "      <td>2016-05-30T00:00:00Z</td>\n",
       "      <td>b</td>\n",
       "      <td>6</td>\n",
       "      <td>1</td>\n",
       "    </tr>\n",
       "    <tr>\n",
       "      <th>6</th>\n",
       "      <td>2016-03-29T00:00:00Z</td>\n",
       "      <td>c</td>\n",
       "      <td>7</td>\n",
       "      <td>1</td>\n",
       "    </tr>\n",
       "  </tbody>\n",
       "</table>\n",
       "</div>"
      ],
      "text/plain": [
       "                    dat id  s  nnn\n",
       "0  2016-06-29T00:00:00Z  a  1    2\n",
       "1  2016-06-29T00:00:00Z  a  2    2\n",
       "2  2016-04-30T00:00:00Z  a  3    1\n",
       "3  2016-05-01T00:00:00Z  b  4    1\n",
       "4  2016-05-29T00:00:00Z  b  5    1\n",
       "5  2016-05-30T00:00:00Z  b  6    1\n",
       "6  2016-03-29T00:00:00Z  c  7    1"
      ]
     },
     "execution_count": 14,
     "metadata": {},
     "output_type": "execute_result"
    }
   ],
   "source": [
    "dftest"
   ]
  },
  {
   "cell_type": "code",
   "execution_count": 13,
   "metadata": {
    "collapsed": false
   },
   "outputs": [
    {
     "data": {
      "text/plain": [
       "id  dat                 \n",
       "a   2016-04-30T00:00:00Z    1\n",
       "    2016-06-29T00:00:00Z    2\n",
       "b   2016-05-01T00:00:00Z    1\n",
       "    2016-05-29T00:00:00Z    1\n",
       "    2016-05-30T00:00:00Z    1\n",
       "c   2016-03-29T00:00:00Z    1\n",
       "Name: s, dtype: int64"
      ]
     },
     "execution_count": 13,
     "metadata": {},
     "output_type": "execute_result"
    }
   ],
   "source": [
    "dftest.groupby(['id','dat'])['s'].nunique()"
   ]
  },
  {
   "cell_type": "code",
   "execution_count": 301,
   "metadata": {
    "collapsed": false,
    "deletable": true,
    "editable": true
   },
   "outputs": [
    {
     "data": {
      "text/html": [
       "<div>\n",
       "<table border=\"1\" class=\"dataframe\">\n",
       "  <thead>\n",
       "    <tr style=\"text-align: right;\">\n",
       "      <th></th>\n",
       "      <th>dat</th>\n",
       "      <th>id</th>\n",
       "      <th>s</th>\n",
       "    </tr>\n",
       "  </thead>\n",
       "  <tbody>\n",
       "    <tr>\n",
       "      <th>1</th>\n",
       "      <td>2016-04-30T00:00:00Z</td>\n",
       "      <td>a</td>\n",
       "      <td>1</td>\n",
       "    </tr>\n",
       "    <tr>\n",
       "      <th>2</th>\n",
       "      <td>2016-05-01T00:00:00Z</td>\n",
       "      <td>b</td>\n",
       "      <td>0</td>\n",
       "    </tr>\n",
       "    <tr>\n",
       "      <th>3</th>\n",
       "      <td>2016-05-29T00:00:00Z</td>\n",
       "      <td>b</td>\n",
       "      <td>1</td>\n",
       "    </tr>\n",
       "    <tr>\n",
       "      <th>4</th>\n",
       "      <td>2016-05-30T00:00:00Z</td>\n",
       "      <td>b</td>\n",
       "      <td>0</td>\n",
       "    </tr>\n",
       "    <tr>\n",
       "      <th>0</th>\n",
       "      <td>2016-06-29T00:00:00Z</td>\n",
       "      <td>a</td>\n",
       "      <td>0</td>\n",
       "    </tr>\n",
       "  </tbody>\n",
       "</table>\n",
       "</div>"
      ],
      "text/plain": [
       "                    dat id  s\n",
       "1  2016-04-30T00:00:00Z  a  1\n",
       "2  2016-05-01T00:00:00Z  b  0\n",
       "3  2016-05-29T00:00:00Z  b  1\n",
       "4  2016-05-30T00:00:00Z  b  0\n",
       "0  2016-06-29T00:00:00Z  a  0"
      ]
     },
     "execution_count": 301,
     "metadata": {},
     "output_type": "execute_result"
    }
   ],
   "source": [
    "dftest.sort_values([\"dat\"], inplace=True, ascending=True)  \n",
    "dftest"
   ]
  },
  {
   "cell_type": "code",
   "execution_count": 302,
   "metadata": {
    "collapsed": false,
    "deletable": true,
    "editable": true
   },
   "outputs": [
    {
     "data": {
      "text/html": [
       "<div>\n",
       "<table border=\"1\" class=\"dataframe\">\n",
       "  <thead>\n",
       "    <tr style=\"text-align: right;\">\n",
       "      <th></th>\n",
       "      <th>dat</th>\n",
       "      <th>id</th>\n",
       "      <th>s</th>\n",
       "      <th>new</th>\n",
       "    </tr>\n",
       "  </thead>\n",
       "  <tbody>\n",
       "    <tr>\n",
       "      <th>1</th>\n",
       "      <td>2016-04-30T00:00:00Z</td>\n",
       "      <td>a</td>\n",
       "      <td>1</td>\n",
       "      <td>NaN</td>\n",
       "    </tr>\n",
       "    <tr>\n",
       "      <th>2</th>\n",
       "      <td>2016-05-01T00:00:00Z</td>\n",
       "      <td>b</td>\n",
       "      <td>0</td>\n",
       "      <td>NaN</td>\n",
       "    </tr>\n",
       "    <tr>\n",
       "      <th>3</th>\n",
       "      <td>2016-05-29T00:00:00Z</td>\n",
       "      <td>b</td>\n",
       "      <td>1</td>\n",
       "      <td>0.0</td>\n",
       "    </tr>\n",
       "    <tr>\n",
       "      <th>4</th>\n",
       "      <td>2016-05-30T00:00:00Z</td>\n",
       "      <td>b</td>\n",
       "      <td>0</td>\n",
       "      <td>1.0</td>\n",
       "    </tr>\n",
       "    <tr>\n",
       "      <th>0</th>\n",
       "      <td>2016-06-29T00:00:00Z</td>\n",
       "      <td>a</td>\n",
       "      <td>0</td>\n",
       "      <td>1.0</td>\n",
       "    </tr>\n",
       "  </tbody>\n",
       "</table>\n",
       "</div>"
      ],
      "text/plain": [
       "                    dat id  s  new\n",
       "1  2016-04-30T00:00:00Z  a  1  NaN\n",
       "2  2016-05-01T00:00:00Z  b  0  NaN\n",
       "3  2016-05-29T00:00:00Z  b  1  0.0\n",
       "4  2016-05-30T00:00:00Z  b  0  1.0\n",
       "0  2016-06-29T00:00:00Z  a  0  1.0"
      ]
     },
     "execution_count": 302,
     "metadata": {},
     "output_type": "execute_result"
    }
   ],
   "source": [
    "dftest['new'] = dftest.groupby('id')['s'].apply(lambda x: x.shift(1))\n",
    "dftest"
   ]
  },
  {
   "cell_type": "code",
   "execution_count": 303,
   "metadata": {
    "collapsed": false,
    "deletable": true,
    "editable": true
   },
   "outputs": [
    {
     "data": {
      "text/html": [
       "<div>\n",
       "<table border=\"1\" class=\"dataframe\">\n",
       "  <thead>\n",
       "    <tr style=\"text-align: right;\">\n",
       "      <th></th>\n",
       "      <th>dat</th>\n",
       "      <th>id</th>\n",
       "      <th>s</th>\n",
       "      <th>new</th>\n",
       "    </tr>\n",
       "  </thead>\n",
       "  <tbody>\n",
       "    <tr>\n",
       "      <th>3</th>\n",
       "      <td>2016-05-29T00:00:00Z</td>\n",
       "      <td>b</td>\n",
       "      <td>1</td>\n",
       "      <td>0.0</td>\n",
       "    </tr>\n",
       "    <tr>\n",
       "      <th>4</th>\n",
       "      <td>2016-05-30T00:00:00Z</td>\n",
       "      <td>b</td>\n",
       "      <td>0</td>\n",
       "      <td>1.0</td>\n",
       "    </tr>\n",
       "    <tr>\n",
       "      <th>0</th>\n",
       "      <td>2016-06-29T00:00:00Z</td>\n",
       "      <td>a</td>\n",
       "      <td>0</td>\n",
       "      <td>1.0</td>\n",
       "    </tr>\n",
       "  </tbody>\n",
       "</table>\n",
       "</div>"
      ],
      "text/plain": [
       "                    dat id  s  new\n",
       "3  2016-05-29T00:00:00Z  b  1  0.0\n",
       "4  2016-05-30T00:00:00Z  b  0  1.0\n",
       "0  2016-06-29T00:00:00Z  a  0  1.0"
      ]
     },
     "execution_count": 303,
     "metadata": {},
     "output_type": "execute_result"
    }
   ],
   "source": [
    "dftest[dftest.new.notnull()]"
   ]
  },
  {
   "cell_type": "code",
   "execution_count": 304,
   "metadata": {
    "collapsed": false,
    "deletable": true,
    "editable": true
   },
   "outputs": [],
   "source": [
    "dftest['missedNum'] = dftest[dftest.new.notnull()].groupby('id')['new'].apply(lambda x: x.cumsum())"
   ]
  },
  {
   "cell_type": "code",
   "execution_count": 305,
   "metadata": {
    "collapsed": false,
    "deletable": true,
    "editable": true
   },
   "outputs": [],
   "source": [
    "dftest['AllNum'] = dftest[dftest.new.notnull()].groupby('id')['new'].apply(lambda x: (x*0+1).cumsum())"
   ]
  },
  {
   "cell_type": "code",
   "execution_count": 309,
   "metadata": {
    "collapsed": false,
    "deletable": true,
    "editable": true
   },
   "outputs": [],
   "source": [
    "dftest['MissedRatio'] = dftest['missedNum']/dftest['AllNum']"
   ]
  },
  {
   "cell_type": "code",
   "execution_count": 310,
   "metadata": {
    "collapsed": false,
    "deletable": true,
    "editable": true
   },
   "outputs": [
    {
     "data": {
      "text/html": [
       "<div>\n",
       "<table border=\"1\" class=\"dataframe\">\n",
       "  <thead>\n",
       "    <tr style=\"text-align: right;\">\n",
       "      <th></th>\n",
       "      <th>dat</th>\n",
       "      <th>id</th>\n",
       "      <th>s</th>\n",
       "      <th>new</th>\n",
       "      <th>missedNum</th>\n",
       "      <th>AllNum</th>\n",
       "      <th>MissedRatio</th>\n",
       "    </tr>\n",
       "  </thead>\n",
       "  <tbody>\n",
       "    <tr>\n",
       "      <th>1</th>\n",
       "      <td>2016-04-30T00:00:00Z</td>\n",
       "      <td>a</td>\n",
       "      <td>1</td>\n",
       "      <td>NaN</td>\n",
       "      <td>NaN</td>\n",
       "      <td>NaN</td>\n",
       "      <td>NaN</td>\n",
       "    </tr>\n",
       "    <tr>\n",
       "      <th>2</th>\n",
       "      <td>2016-05-01T00:00:00Z</td>\n",
       "      <td>b</td>\n",
       "      <td>0</td>\n",
       "      <td>NaN</td>\n",
       "      <td>NaN</td>\n",
       "      <td>NaN</td>\n",
       "      <td>NaN</td>\n",
       "    </tr>\n",
       "    <tr>\n",
       "      <th>3</th>\n",
       "      <td>2016-05-29T00:00:00Z</td>\n",
       "      <td>b</td>\n",
       "      <td>1</td>\n",
       "      <td>0.0</td>\n",
       "      <td>0.0</td>\n",
       "      <td>1.0</td>\n",
       "      <td>0.0</td>\n",
       "    </tr>\n",
       "    <tr>\n",
       "      <th>4</th>\n",
       "      <td>2016-05-30T00:00:00Z</td>\n",
       "      <td>b</td>\n",
       "      <td>0</td>\n",
       "      <td>1.0</td>\n",
       "      <td>1.0</td>\n",
       "      <td>2.0</td>\n",
       "      <td>0.5</td>\n",
       "    </tr>\n",
       "    <tr>\n",
       "      <th>0</th>\n",
       "      <td>2016-06-29T00:00:00Z</td>\n",
       "      <td>a</td>\n",
       "      <td>0</td>\n",
       "      <td>1.0</td>\n",
       "      <td>1.0</td>\n",
       "      <td>1.0</td>\n",
       "      <td>1.0</td>\n",
       "    </tr>\n",
       "  </tbody>\n",
       "</table>\n",
       "</div>"
      ],
      "text/plain": [
       "                    dat id  s  new  missedNum  AllNum  MissedRatio\n",
       "1  2016-04-30T00:00:00Z  a  1  NaN        NaN     NaN          NaN\n",
       "2  2016-05-01T00:00:00Z  b  0  NaN        NaN     NaN          NaN\n",
       "3  2016-05-29T00:00:00Z  b  1  0.0        0.0     1.0          0.0\n",
       "4  2016-05-30T00:00:00Z  b  0  1.0        1.0     2.0          0.5\n",
       "0  2016-06-29T00:00:00Z  a  0  1.0        1.0     1.0          1.0"
      ]
     },
     "execution_count": 310,
     "metadata": {},
     "output_type": "execute_result"
    }
   ],
   "source": [
    "dftest"
   ]
  },
  {
   "cell_type": "code",
   "execution_count": null,
   "metadata": {
    "collapsed": true,
    "deletable": true,
    "editable": true
   },
   "outputs": [],
   "source": []
  },
  {
   "cell_type": "code",
   "execution_count": null,
   "metadata": {
    "collapsed": true,
    "deletable": true,
    "editable": true
   },
   "outputs": [],
   "source": []
  },
  {
   "cell_type": "code",
   "execution_count": null,
   "metadata": {
    "collapsed": true,
    "deletable": true,
    "editable": true
   },
   "outputs": [],
   "source": []
  },
  {
   "cell_type": "code",
   "execution_count": null,
   "metadata": {
    "collapsed": true,
    "deletable": true,
    "editable": true
   },
   "outputs": [],
   "source": []
  },
  {
   "cell_type": "code",
   "execution_count": 254,
   "metadata": {
    "collapsed": false,
    "deletable": true,
    "editable": true
   },
   "outputs": [
    {
     "data": {
      "text/plain": [
       "(110527, 14)"
      ]
     },
     "execution_count": 254,
     "metadata": {},
     "output_type": "execute_result"
    }
   ],
   "source": [
    "df.shape"
   ]
  },
  {
   "cell_type": "code",
   "execution_count": 206,
   "metadata": {
    "collapsed": false,
    "deletable": true,
    "editable": true
   },
   "outputs": [
    {
     "ename": "TypeError",
     "evalue": "__init__() got an unexpected keyword argument 'column'",
     "output_type": "error",
     "traceback": [
      "\u001b[0;31m---------------------------------------------------------------------------\u001b[0m",
      "\u001b[0;31mTypeError\u001b[0m                                 Traceback (most recent call last)",
      "\u001b[0;32m<ipython-input-206-5207612c88f9>\u001b[0m in \u001b[0;36m<module>\u001b[0;34m()\u001b[0m\n\u001b[0;32m----> 1\u001b[0;31m \u001b[0mpatient\u001b[0m \u001b[0;34m=\u001b[0m \u001b[0mpd\u001b[0m\u001b[0;34m.\u001b[0m\u001b[0mDataFrame\u001b[0m\u001b[0;34m(\u001b[0m\u001b[0my\u001b[0m\u001b[0;34m,\u001b[0m \u001b[0mcolumn\u001b[0m\u001b[0;34m=\u001b[0m\u001b[0;34m[\u001b[0m\u001b[0;34m'PatientID'\u001b[0m\u001b[0;34m,\u001b[0m \u001b[0;34m'AppNum'\u001b[0m\u001b[0;34m]\u001b[0m\u001b[0;34m)\u001b[0m\u001b[0;34m\u001b[0m\u001b[0m\n\u001b[0m",
      "\u001b[0;31mTypeError\u001b[0m: __init__() got an unexpected keyword argument 'column'"
     ]
    }
   ],
   "source": [
    "patient = pd.DataFrame(y, column=['PatientID', 'AppNum'])"
   ]
  },
  {
   "cell_type": "code",
   "execution_count": 205,
   "metadata": {
    "collapsed": false,
    "deletable": true,
    "editable": true
   },
   "outputs": [
    {
     "data": {
      "text/html": [
       "<div>\n",
       "<table border=\"1\" class=\"dataframe\">\n",
       "  <thead>\n",
       "    <tr style=\"text-align: right;\">\n",
       "      <th></th>\n",
       "      <th>AppointmentID</th>\n",
       "    </tr>\n",
       "    <tr>\n",
       "      <th>PatientID</th>\n",
       "      <th></th>\n",
       "    </tr>\n",
       "  </thead>\n",
       "  <tbody>\n",
       "    <tr>\n",
       "      <th>3.921784e+04</th>\n",
       "      <td>1</td>\n",
       "    </tr>\n",
       "    <tr>\n",
       "      <th>4.374176e+04</th>\n",
       "      <td>1</td>\n",
       "    </tr>\n",
       "    <tr>\n",
       "      <th>9.377953e+04</th>\n",
       "      <td>1</td>\n",
       "    </tr>\n",
       "    <tr>\n",
       "      <th>1.417242e+05</th>\n",
       "      <td>1</td>\n",
       "    </tr>\n",
       "    <tr>\n",
       "      <th>5.376153e+05</th>\n",
       "      <td>1</td>\n",
       "    </tr>\n",
       "    <tr>\n",
       "      <th>5.628261e+06</th>\n",
       "      <td>1</td>\n",
       "    </tr>\n",
       "    <tr>\n",
       "      <th>1.183186e+07</th>\n",
       "      <td>1</td>\n",
       "    </tr>\n",
       "    <tr>\n",
       "      <th>2.263866e+07</th>\n",
       "      <td>2</td>\n",
       "    </tr>\n",
       "    <tr>\n",
       "      <th>5.216894e+07</th>\n",
       "      <td>2</td>\n",
       "    </tr>\n",
       "    <tr>\n",
       "      <th>5.422400e+07</th>\n",
       "      <td>1</td>\n",
       "    </tr>\n",
       "    <tr>\n",
       "      <th>6.143378e+07</th>\n",
       "      <td>1</td>\n",
       "    </tr>\n",
       "    <tr>\n",
       "      <th>6.249793e+07</th>\n",
       "      <td>1</td>\n",
       "    </tr>\n",
       "    <tr>\n",
       "      <th>6.485121e+07</th>\n",
       "      <td>2</td>\n",
       "    </tr>\n",
       "    <tr>\n",
       "      <th>7.838548e+07</th>\n",
       "      <td>1</td>\n",
       "    </tr>\n",
       "    <tr>\n",
       "      <th>7.922850e+07</th>\n",
       "      <td>2</td>\n",
       "    </tr>\n",
       "    <tr>\n",
       "      <th>8.658474e+07</th>\n",
       "      <td>1</td>\n",
       "    </tr>\n",
       "    <tr>\n",
       "      <th>8.799645e+07</th>\n",
       "      <td>2</td>\n",
       "    </tr>\n",
       "    <tr>\n",
       "      <th>9.531312e+07</th>\n",
       "      <td>1</td>\n",
       "    </tr>\n",
       "    <tr>\n",
       "      <th>9.951243e+07</th>\n",
       "      <td>1</td>\n",
       "    </tr>\n",
       "    <tr>\n",
       "      <th>1.224513e+08</th>\n",
       "      <td>2</td>\n",
       "    </tr>\n",
       "    <tr>\n",
       "      <th>1.328182e+08</th>\n",
       "      <td>1</td>\n",
       "    </tr>\n",
       "    <tr>\n",
       "      <th>1.421333e+08</th>\n",
       "      <td>2</td>\n",
       "    </tr>\n",
       "    <tr>\n",
       "      <th>1.562232e+08</th>\n",
       "      <td>2</td>\n",
       "    </tr>\n",
       "    <tr>\n",
       "      <th>1.781682e+08</th>\n",
       "      <td>2</td>\n",
       "    </tr>\n",
       "    <tr>\n",
       "      <th>1.798748e+08</th>\n",
       "      <td>1</td>\n",
       "    </tr>\n",
       "    <tr>\n",
       "      <th>1.889645e+08</th>\n",
       "      <td>3</td>\n",
       "    </tr>\n",
       "    <tr>\n",
       "      <th>2.111247e+08</th>\n",
       "      <td>2</td>\n",
       "    </tr>\n",
       "    <tr>\n",
       "      <th>2.157787e+08</th>\n",
       "      <td>1</td>\n",
       "    </tr>\n",
       "    <tr>\n",
       "      <th>2.237986e+08</th>\n",
       "      <td>2</td>\n",
       "    </tr>\n",
       "    <tr>\n",
       "      <th>2.264383e+08</th>\n",
       "      <td>1</td>\n",
       "    </tr>\n",
       "    <tr>\n",
       "      <th>...</th>\n",
       "      <td>...</td>\n",
       "    </tr>\n",
       "    <tr>\n",
       "      <th>9.987619e+14</th>\n",
       "      <td>1</td>\n",
       "    </tr>\n",
       "    <tr>\n",
       "      <th>9.988115e+14</th>\n",
       "      <td>2</td>\n",
       "    </tr>\n",
       "    <tr>\n",
       "      <th>9.988130e+14</th>\n",
       "      <td>2</td>\n",
       "    </tr>\n",
       "    <tr>\n",
       "      <th>9.988821e+14</th>\n",
       "      <td>4</td>\n",
       "    </tr>\n",
       "    <tr>\n",
       "      <th>9.988928e+14</th>\n",
       "      <td>1</td>\n",
       "    </tr>\n",
       "    <tr>\n",
       "      <th>9.989427e+14</th>\n",
       "      <td>2</td>\n",
       "    </tr>\n",
       "    <tr>\n",
       "      <th>9.989442e+14</th>\n",
       "      <td>1</td>\n",
       "    </tr>\n",
       "    <tr>\n",
       "      <th>9.989497e+14</th>\n",
       "      <td>1</td>\n",
       "    </tr>\n",
       "    <tr>\n",
       "      <th>9.991881e+14</th>\n",
       "      <td>1</td>\n",
       "    </tr>\n",
       "    <tr>\n",
       "      <th>9.992778e+14</th>\n",
       "      <td>3</td>\n",
       "    </tr>\n",
       "    <tr>\n",
       "      <th>9.992953e+14</th>\n",
       "      <td>1</td>\n",
       "    </tr>\n",
       "    <tr>\n",
       "      <th>9.993129e+14</th>\n",
       "      <td>1</td>\n",
       "    </tr>\n",
       "    <tr>\n",
       "      <th>9.993364e+14</th>\n",
       "      <td>2</td>\n",
       "    </tr>\n",
       "    <tr>\n",
       "      <th>9.993486e+14</th>\n",
       "      <td>1</td>\n",
       "    </tr>\n",
       "    <tr>\n",
       "      <th>9.994717e+14</th>\n",
       "      <td>3</td>\n",
       "    </tr>\n",
       "    <tr>\n",
       "      <th>9.994792e+14</th>\n",
       "      <td>3</td>\n",
       "    </tr>\n",
       "    <tr>\n",
       "      <th>9.996275e+14</th>\n",
       "      <td>4</td>\n",
       "    </tr>\n",
       "    <tr>\n",
       "      <th>9.996380e+14</th>\n",
       "      <td>1</td>\n",
       "    </tr>\n",
       "    <tr>\n",
       "      <th>9.996585e+14</th>\n",
       "      <td>1</td>\n",
       "    </tr>\n",
       "    <tr>\n",
       "      <th>9.997437e+14</th>\n",
       "      <td>2</td>\n",
       "    </tr>\n",
       "    <tr>\n",
       "      <th>9.997482e+14</th>\n",
       "      <td>1</td>\n",
       "    </tr>\n",
       "    <tr>\n",
       "      <th>9.998194e+14</th>\n",
       "      <td>1</td>\n",
       "    </tr>\n",
       "    <tr>\n",
       "      <th>9.998318e+14</th>\n",
       "      <td>4</td>\n",
       "    </tr>\n",
       "    <tr>\n",
       "      <th>9.998774e+14</th>\n",
       "      <td>2</td>\n",
       "    </tr>\n",
       "    <tr>\n",
       "      <th>9.999275e+14</th>\n",
       "      <td>1</td>\n",
       "    </tr>\n",
       "    <tr>\n",
       "      <th>9.999320e+14</th>\n",
       "      <td>5</td>\n",
       "    </tr>\n",
       "    <tr>\n",
       "      <th>9.999350e+14</th>\n",
       "      <td>1</td>\n",
       "    </tr>\n",
       "    <tr>\n",
       "      <th>9.999465e+14</th>\n",
       "      <td>1</td>\n",
       "    </tr>\n",
       "    <tr>\n",
       "      <th>9.999686e+14</th>\n",
       "      <td>1</td>\n",
       "    </tr>\n",
       "    <tr>\n",
       "      <th>9.999816e+14</th>\n",
       "      <td>1</td>\n",
       "    </tr>\n",
       "  </tbody>\n",
       "</table>\n",
       "<p>62299 rows × 1 columns</p>\n",
       "</div>"
      ],
      "text/plain": [
       "              AppointmentID\n",
       "PatientID                  \n",
       "3.921784e+04              1\n",
       "4.374176e+04              1\n",
       "9.377953e+04              1\n",
       "1.417242e+05              1\n",
       "5.376153e+05              1\n",
       "5.628261e+06              1\n",
       "1.183186e+07              1\n",
       "2.263866e+07              2\n",
       "5.216894e+07              2\n",
       "5.422400e+07              1\n",
       "6.143378e+07              1\n",
       "6.249793e+07              1\n",
       "6.485121e+07              2\n",
       "7.838548e+07              1\n",
       "7.922850e+07              2\n",
       "8.658474e+07              1\n",
       "8.799645e+07              2\n",
       "9.531312e+07              1\n",
       "9.951243e+07              1\n",
       "1.224513e+08              2\n",
       "1.328182e+08              1\n",
       "1.421333e+08              2\n",
       "1.562232e+08              2\n",
       "1.781682e+08              2\n",
       "1.798748e+08              1\n",
       "1.889645e+08              3\n",
       "2.111247e+08              2\n",
       "2.157787e+08              1\n",
       "2.237986e+08              2\n",
       "2.264383e+08              1\n",
       "...                     ...\n",
       "9.987619e+14              1\n",
       "9.988115e+14              2\n",
       "9.988130e+14              2\n",
       "9.988821e+14              4\n",
       "9.988928e+14              1\n",
       "9.989427e+14              2\n",
       "9.989442e+14              1\n",
       "9.989497e+14              1\n",
       "9.991881e+14              1\n",
       "9.992778e+14              3\n",
       "9.992953e+14              1\n",
       "9.993129e+14              1\n",
       "9.993364e+14              2\n",
       "9.993486e+14              1\n",
       "9.994717e+14              3\n",
       "9.994792e+14              3\n",
       "9.996275e+14              4\n",
       "9.996380e+14              1\n",
       "9.996585e+14              1\n",
       "9.997437e+14              2\n",
       "9.997482e+14              1\n",
       "9.998194e+14              1\n",
       "9.998318e+14              4\n",
       "9.998774e+14              2\n",
       "9.999275e+14              1\n",
       "9.999320e+14              5\n",
       "9.999350e+14              1\n",
       "9.999465e+14              1\n",
       "9.999686e+14              1\n",
       "9.999816e+14              1\n",
       "\n",
       "[62299 rows x 1 columns]"
      ]
     },
     "execution_count": 205,
     "metadata": {},
     "output_type": "execute_result"
    }
   ],
   "source": [
    "patient"
   ]
  },
  {
   "cell_type": "code",
   "execution_count": 177,
   "metadata": {
    "collapsed": false,
    "deletable": true,
    "editable": true
   },
   "outputs": [
    {
     "data": {
      "image/png": "[encoded data removed]",
      "text/plain": [
       "<matplotlib.figure.Figure at 0x7fb847b3de50>"
      ]
     },
     "metadata": {},
     "output_type": "display_data"
    }
   ],
   "source": [
    "#g = sns.FacetGrid(df_rtn, hue=\"group\")\n",
    "#g = g.map(sns.distplot, \"variable\")\n",
    "\n",
    "g = sns.FacetGrid(df, hue='NoShow')\n",
    "g = g.map(sns.distplot,'appPreviousMissedRatio',  kde=False, norm_hist = True)"
   ]
  },
  {
   "cell_type": "code",
   "execution_count": null,
   "metadata": {
    "collapsed": true,
    "deletable": true,
    "editable": true
   },
   "outputs": [],
   "source": []
  },
  {
   "cell_type": "code",
   "execution_count": null,
   "metadata": {
    "collapsed": true,
    "deletable": true,
    "editable": true
   },
   "outputs": [],
   "source": [
    "tmp  = df.groupby(['NoShow'])\n",
    "for name, group in tmp:\n",
    "    #print name\n",
    "    #print group.info()\n",
    "    sns.distplot(group['Time'], kde=False, norm_hist = True, label= str(name)) \n",
    "    plt.xlim(0,50)\n",
    "                 \n",
    "plt.legend()\n",
    "plt.title(\"Normalized histogram of appointment waiting time for Show/No-show\")"
   ]
  },
  {
   "cell_type": "code",
   "execution_count": 174,
   "metadata": {
    "collapsed": false,
    "deletable": true,
    "editable": true
   },
   "outputs": [
    {
     "ename": "TypeError",
     "evalue": "distplot() got an unexpected keyword argument 'hue'",
     "output_type": "error",
     "traceback": [
      "\u001b[0;31m---------------------------------------------------------------------------\u001b[0m",
      "\u001b[0;31mTypeError\u001b[0m                                 Traceback (most recent call last)",
      "\u001b[0;32m<ipython-input-174-c4582d65932a>\u001b[0m in \u001b[0;36m<module>\u001b[0;34m()\u001b[0m\n\u001b[0;32m----> 1\u001b[0;31m \u001b[0msns\u001b[0m\u001b[0;34m.\u001b[0m\u001b[0mdistplot\u001b[0m\u001b[0;34m(\u001b[0m\u001b[0mdf\u001b[0m\u001b[0;34m[\u001b[0m\u001b[0;34m'appPreviousMissedRatio'\u001b[0m\u001b[0;34m]\u001b[0m\u001b[0;34m,\u001b[0m \u001b[0mhue\u001b[0m\u001b[0;34m=\u001b[0m\u001b[0;34m'NoShow'\u001b[0m\u001b[0;34m,\u001b[0m \u001b[0mkde\u001b[0m\u001b[0;34m=\u001b[0m\u001b[0mFalse\u001b[0m\u001b[0;34m,\u001b[0m \u001b[0mnorm_hist\u001b[0m \u001b[0;34m=\u001b[0m \u001b[0mTrue\u001b[0m\u001b[0;34m)\u001b[0m\u001b[0;34m\u001b[0m\u001b[0m\n\u001b[0m",
      "\u001b[0;31mTypeError\u001b[0m: distplot() got an unexpected keyword argument 'hue'"
     ]
    }
   ],
   "source": [
    "sns.distplot(df['appPreviousMissedRatio'], hue='NoShow', kde=False, norm_hist = True)"
   ]
  },
  {
   "cell_type": "code",
   "execution_count": 139,
   "metadata": {
    "collapsed": true,
    "deletable": true,
    "editable": true
   },
   "outputs": [],
   "source": [
    "df['NoShow'] = df['NoShow'].astype(\"category\").cat.codes\n",
    "# Yes - 1 No show;  No - 0 Show"
   ]
  },
  {
   "cell_type": "code",
   "execution_count": 140,
   "metadata": {
    "collapsed": false,
    "deletable": true,
    "editable": true
   },
   "outputs": [],
   "source": [
    "# Create dummy variables for categorical variables\n",
    "# One-hot Encoding: dp.get_dummies()\n",
    "\n",
    "def dummies(df, columns = []):\n",
    "\n",
    "    for column in columns:\n",
    "        df[column] = df[column].astype('category').cat.codes\n",
    "        df = pd.concat((df, pd.get_dummies(df[column], prefix = column)), axis = 1)\n",
    "        #del df[column]\n",
    "    return df"
   ]
  },
  {
   "cell_type": "code",
   "execution_count": 118,
   "metadata": {
    "collapsed": false,
    "deletable": true,
    "editable": true
   },
   "outputs": [],
   "source": [
    "#pd.DataFrame.hist(df['Time'])\n",
    "#sns.distplot(df['Time'], kde=False)\n",
    "#column='Gender'\n",
    "#df[column] = df[column].astype(\"category\").cat.codes\n",
    "#tmp = pd.Categorical(df['Gender'])\n",
    "#tmp.cat.codes"
   ]
  },
  {
   "cell_type": "code",
   "execution_count": 141,
   "metadata": {
    "collapsed": false,
    "deletable": true,
    "editable": true
   },
   "outputs": [],
   "source": [
    "df = dummies(df, columns=['Gender', 'Neighbourhood', 'Scholarship', 'Hypertension', \n",
    "                          'Diabetes','Alcoholism', 'Handicap', 'SMS_received'])"
   ]
  },
  {
   "cell_type": "code",
   "execution_count": 142,
   "metadata": {
    "collapsed": false,
    "deletable": true,
    "editable": true
   },
   "outputs": [
    {
     "name": "stdout",
     "output_type": "stream",
     "text": [
      "<class 'pandas.core.frame.DataFrame'>\n",
      "Int64Index: 110527 entries, 954 to 87223\n",
      "Columns: 115 entries, PatientID to SMS_received_1\n",
      "dtypes: datetime64[ns](2), float64(2), int32(1), int64(3), int8(9), uint8(98)\n",
      "memory usage: 18.4 MB\n"
     ]
    }
   ],
   "source": [
    "df.info()"
   ]
  },
  {
   "cell_type": "code",
   "execution_count": 143,
   "metadata": {
    "collapsed": false,
    "deletable": true,
    "editable": true
   },
   "outputs": [
    {
     "data": {
      "text/plain": [
       "array(['PatientID', 'AppointmentID', 'Gender', 'ScheduledDay',\n",
       "       'AppointmentDay', 'Age', 'Neighbourhood', 'Scholarship',\n",
       "       'Hypertension', 'Diabetes', 'Alcoholism', 'Handicap',\n",
       "       'SMS_received', 'NoShow', 'Time', 'weekday', 'month', 'Gender_0',\n",
       "       'Gender_1', 'Neighbourhood_0', 'Neighbourhood_1', 'Neighbourhood_2',\n",
       "       'Neighbourhood_3', 'Neighbourhood_4', 'Neighbourhood_5',\n",
       "       'Neighbourhood_6', 'Neighbourhood_7', 'Neighbourhood_8',\n",
       "       'Neighbourhood_9', 'Neighbourhood_10', 'Neighbourhood_11',\n",
       "       'Neighbourhood_12', 'Neighbourhood_13', 'Neighbourhood_14',\n",
       "       'Neighbourhood_15', 'Neighbourhood_16', 'Neighbourhood_17',\n",
       "       'Neighbourhood_18', 'Neighbourhood_19', 'Neighbourhood_20',\n",
       "       'Neighbourhood_21', 'Neighbourhood_22', 'Neighbourhood_23',\n",
       "       'Neighbourhood_24', 'Neighbourhood_25', 'Neighbourhood_26',\n",
       "       'Neighbourhood_27', 'Neighbourhood_28', 'Neighbourhood_29',\n",
       "       'Neighbourhood_30', 'Neighbourhood_31', 'Neighbourhood_32',\n",
       "       'Neighbourhood_33', 'Neighbourhood_34', 'Neighbourhood_35',\n",
       "       'Neighbourhood_36', 'Neighbourhood_37', 'Neighbourhood_38',\n",
       "       'Neighbourhood_39', 'Neighbourhood_40', 'Neighbourhood_41',\n",
       "       'Neighbourhood_42', 'Neighbourhood_43', 'Neighbourhood_44',\n",
       "       'Neighbourhood_45', 'Neighbourhood_46', 'Neighbourhood_47',\n",
       "       'Neighbourhood_48', 'Neighbourhood_49', 'Neighbourhood_50',\n",
       "       'Neighbourhood_51', 'Neighbourhood_52', 'Neighbourhood_53',\n",
       "       'Neighbourhood_54', 'Neighbourhood_55', 'Neighbourhood_56',\n",
       "       'Neighbourhood_57', 'Neighbourhood_58', 'Neighbourhood_59',\n",
       "       'Neighbourhood_60', 'Neighbourhood_61', 'Neighbourhood_62',\n",
       "       'Neighbourhood_63', 'Neighbourhood_64', 'Neighbourhood_65',\n",
       "       'Neighbourhood_66', 'Neighbourhood_67', 'Neighbourhood_68',\n",
       "       'Neighbourhood_69', 'Neighbourhood_70', 'Neighbourhood_71',\n",
       "       'Neighbourhood_72', 'Neighbourhood_73', 'Neighbourhood_74',\n",
       "       'Neighbourhood_75', 'Neighbourhood_76', 'Neighbourhood_77',\n",
       "       'Neighbourhood_78', 'Neighbourhood_79', 'Neighbourhood_80',\n",
       "       'Scholarship_0', 'Scholarship_1', 'Hypertension_0',\n",
       "       'Hypertension_1', 'Diabetes_0', 'Diabetes_1', 'Alcoholism_0',\n",
       "       'Alcoholism_1', 'Handicap_0', 'Handicap_1', 'Handicap_2',\n",
       "       'Handicap_3', 'Handicap_4', 'SMS_received_0', 'SMS_received_1'], dtype=object)"
      ]
     },
     "execution_count": 143,
     "metadata": {},
     "output_type": "execute_result"
    }
   ],
   "source": [
    "df.columns.values"
   ]
  },
  {
   "cell_type": "code",
   "execution_count": null,
   "metadata": {
    "collapsed": true,
    "deletable": true,
    "editable": true
   },
   "outputs": [],
   "source": [
    "df"
   ]
  },
  {
   "cell_type": "code",
   "execution_count": null,
   "metadata": {
    "collapsed": true,
    "deletable": true,
    "editable": true
   },
   "outputs": [],
   "source": [
    "sns.lmplot(data = probStatus(df, 'Neighbourhood_num'), x = 'Neighbourhood_num', \n",
    "           y = 'probShowUp', palette=\"Set1\", scatter_kws={'s':60},\n",
    "           fit_reg = False)\n",
    "sns.plt.xlim(-1, 81)\n",
    "sns.plt.ylim(0.6, 0.95)\n",
    "sns.plt.title('Probability of showing up with respect to Neighbourhood')\n",
    "sns.plt.show()"
   ]
  },
  {
   "cell_type": "code",
   "execution_count": 162,
   "metadata": {
    "collapsed": false,
    "deletable": true,
    "editable": true
   },
   "outputs": [
    {
     "data": {
      "text/plain": [
       "array([0, 1])"
      ]
     },
     "execution_count": 162,
     "metadata": {},
     "output_type": "execute_result"
    }
   ],
   "source": [
    "df.prev_appMissed.unique()"
   ]
  },
  {
   "cell_type": "code",
   "execution_count": 171,
   "metadata": {
    "collapsed": false,
    "deletable": true,
    "editable": true
   },
   "outputs": [
    {
     "data": {
      "text/plain": [
       "array([ 0,  1,  2,  3,  4,  5,  6,  7,  8,  9, 10, 11, 12, 13, 14, 15, 16,\n",
       "       17, 18])"
      ]
     },
     "execution_count": 171,
     "metadata": {},
     "output_type": "execute_result"
    }
   ],
   "source": [
    "df['n_appMissed'].unique()"
   ]
  },
  {
   "cell_type": "code",
   "execution_count": null,
   "metadata": {
    "collapsed": true,
    "deletable": true,
    "editable": true
   },
   "outputs": [],
   "source": [
    "\n",
    "sns.barplot(data = probStatusCategorical(['Diabetes', 'Alcoholism', 'Hypertension',\n",
    "                                         'SMS_received',  'Scholarship']),\n",
    "            x = 'Condition', y = 'ShowupProbability', hue = 'Level', palette = 'Set2')\n",
    "#sns.plt.xlim(-1, 6)\n",
    "sns.plt.ylim(0.6, 0.9)\n",
    "sns.plt.title('Probability of showing up')\n",
    "sns.plt.ylabel('Probability')\n",
    "sns.plt.show()"
   ]
  },
  {
   "cell_type": "code",
   "execution_count": null,
   "metadata": {
    "collapsed": true,
    "deletable": true,
    "editable": true
   },
   "outputs": [],
   "source": [
    "sns.barplot(data=df, x= '')"
   ]
  },
  {
   "cell_type": "code",
   "execution_count": 185,
   "metadata": {
    "collapsed": false,
    "deletable": true,
    "editable": true
   },
   "outputs": [
    {
     "name": "stdout",
     "output_type": "stream",
     "text": [
      "Mean number of appointments per patient:\t1.63418353425\n",
      "Median number of appointments per patient:\t1.0\n"
     ]
    },
    {
     "data": {
      "text/plain": [
       "<function matplotlib.pyplot.show>"
      ]
     },
     "execution_count": 185,
     "metadata": {},
     "output_type": "execute_result"
    },
    {
     "data": {
      "image/png": "[encoded data removed]",
      "text/plain": [
       "<matplotlib.figure.Figure at 0x7fb82ec19b50>"
      ]
     },
     "metadata": {},
     "output_type": "display_data"
    }
   ],
   "source": [
    "# Histogram of number of appointments per patient\n",
    "x = df.groupby('PatientID')['AppointmentDay'].nunique()\n",
    "print('Mean number of appointments per patient:\\t%s' %np.mean(x))\n",
    "print('Median number of appointments per patient:\\t%s' %np.median(x))\n",
    "\n",
    "plt.figure(1)\n",
    "plt.hist(x, bins = x.nunique())\n",
    "plt.title(\"Number of Appointments per patient\")\n",
    "plt.show"
   ]
  },
  {
   "cell_type": "code",
   "execution_count": 146,
   "metadata": {
    "collapsed": false,
    "deletable": true,
    "editable": true
   },
   "outputs": [],
   "source": [
    "x = df.groupby('PatientID')['AppointmentDay']"
   ]
  },
  {
   "cell_type": "code",
   "execution_count": 142,
   "metadata": {
    "collapsed": false,
    "deletable": true,
    "editable": true
   },
   "outputs": [
    {
     "name": "stdout",
     "output_type": "stream",
     "text": [
      "Number of listed PatientID:\t110527\n",
      "Number of unique PatientId:\t62299\n",
      "Number of unique AppointmentID:\t110527\n"
     ]
    }
   ],
   "source": [
    "# Print basic information\n",
    "print(\"Number of listed PatientID:\\t%s\" %df.shape[0])\n",
    "print(\"Number of unique PatientId:\\t%s\" %len(df.PatientId.unique()))\n",
    "print(\"Number of unique AppointmentID:\\t%s\" %len(df.AppointmentID.unique()))\n"
   ]
  },
  {
   "cell_type": "code",
   "execution_count": 158,
   "metadata": {
    "collapsed": false,
    "deletable": true,
    "editable": true
   },
   "outputs": [
    {
     "name": "stdout",
     "output_type": "stream",
     "text": [
      "Mean number of appointments per patient per day:\t1.08564159987\n"
     ]
    },
    {
     "data": {
      "text/plain": [
       "<function matplotlib.pyplot.show>"
      ]
     },
     "execution_count": 158,
     "metadata": {},
     "output_type": "execute_result"
    },
    {
     "data": {
      "image/png": "[encoded data removed]",
      "text/plain": [
       "<matplotlib.figure.Figure at 0x7fd1c5435050>"
      ]
     },
     "metadata": {},
     "output_type": "display_data"
    }
   ],
   "source": [
    "y = df.groupby(['PatientID','AppointmentDay'])['AppointmentID'].nunique()\n",
    "print('Mean number of appointments per patient per day:\\t%s' %np.mean(y))\n",
    "\n",
    "plt.figure(1)\n",
    "plt.hist(y, bins = y.nunique())\n",
    "plt.title(\"Number of Appointments per patient per day\")\n",
    "plt.show\n"
   ]
  },
  {
   "cell_type": "code",
   "execution_count": 165,
   "metadata": {
    "collapsed": false,
    "deletable": true,
    "editable": true
   },
   "outputs": [
    {
     "ename": "TypeError",
     "evalue": "Argument 'obj' has incorrect type (expected list, got dict)",
     "output_type": "error",
     "traceback": [
      "\u001b[0;31m---------------------------------------------------------------------------\u001b[0m",
      "\u001b[0;31mTypeError\u001b[0m                                 Traceback (most recent call last)",
      "\u001b[0;32m<ipython-input-165-6adb135b5a14>\u001b[0m in \u001b[0;36m<module>\u001b[0;34m()\u001b[0m\n\u001b[0;32m----> 1\u001b[0;31m \u001b[0msns\u001b[0m\u001b[0;34m.\u001b[0m\u001b[0mcountplot\u001b[0m\u001b[0;34m(\u001b[0m\u001b[0mdf\u001b[0m\u001b[0;34m.\u001b[0m\u001b[0mgroupby\u001b[0m\u001b[0;34m(\u001b[0m\u001b[0;34m[\u001b[0m\u001b[0;34m'PatientID'\u001b[0m\u001b[0;34m,\u001b[0m\u001b[0;34m'AppointmentDay'\u001b[0m\u001b[0;34m]\u001b[0m\u001b[0;34m)\u001b[0m\u001b[0;34m.\u001b[0m\u001b[0mgroups\u001b[0m\u001b[0;34m,\u001b[0m \u001b[0mhue\u001b[0m\u001b[0;34m=\u001b[0m\u001b[0mdf\u001b[0m\u001b[0;34m.\u001b[0m\u001b[0mNoShow\u001b[0m\u001b[0;34m)\u001b[0m\u001b[0;34m\u001b[0m\u001b[0m\n\u001b[0m",
      "\u001b[0;32m/usr/lib/python2.7/dist-packages/seaborn/categorical.pyc\u001b[0m in \u001b[0;36mcountplot\u001b[0;34m(x, y, hue, data, order, hue_order, orient, color, palette, saturation, ax, **kwargs)\u001b[0m\n\u001b[1;32m   2542\u001b[0m                           \u001b[0mestimator\u001b[0m\u001b[0;34m,\u001b[0m \u001b[0mci\u001b[0m\u001b[0;34m,\u001b[0m \u001b[0mn_boot\u001b[0m\u001b[0;34m,\u001b[0m \u001b[0munits\u001b[0m\u001b[0;34m,\u001b[0m\u001b[0;34m\u001b[0m\u001b[0m\n\u001b[1;32m   2543\u001b[0m                           \u001b[0morient\u001b[0m\u001b[0;34m,\u001b[0m \u001b[0mcolor\u001b[0m\u001b[0;34m,\u001b[0m \u001b[0mpalette\u001b[0m\u001b[0;34m,\u001b[0m \u001b[0msaturation\u001b[0m\u001b[0;34m,\u001b[0m\u001b[0;34m\u001b[0m\u001b[0m\n\u001b[0;32m-> 2544\u001b[0;31m                           errcolor)\n\u001b[0m\u001b[1;32m   2545\u001b[0m \u001b[0;34m\u001b[0m\u001b[0m\n\u001b[1;32m   2546\u001b[0m     \u001b[0mplotter\u001b[0m\u001b[0;34m.\u001b[0m\u001b[0mvalue_label\u001b[0m \u001b[0;34m=\u001b[0m \u001b[0;34m\"count\"\u001b[0m\u001b[0;34m\u001b[0m\u001b[0m\n",
      "\u001b[0;32m/usr/lib/python2.7/dist-packages/seaborn/categorical.pyc\u001b[0m in \u001b[0;36m__init__\u001b[0;34m(self, x, y, hue, data, order, hue_order, estimator, ci, n_boot, units, orient, color, palette, saturation, errcolor)\u001b[0m\n\u001b[1;32m   1260\u001b[0m         \u001b[0;34m\"\"\"Initialize the plotter.\"\"\"\u001b[0m\u001b[0;34m\u001b[0m\u001b[0m\n\u001b[1;32m   1261\u001b[0m         self.establish_variables(x, y, hue, data, orient,\n\u001b[0;32m-> 1262\u001b[0;31m                                  order, hue_order, units)\n\u001b[0m\u001b[1;32m   1263\u001b[0m         \u001b[0mself\u001b[0m\u001b[0;34m.\u001b[0m\u001b[0mestablish_colors\u001b[0m\u001b[0;34m(\u001b[0m\u001b[0mcolor\u001b[0m\u001b[0;34m,\u001b[0m \u001b[0mpalette\u001b[0m\u001b[0;34m,\u001b[0m \u001b[0msaturation\u001b[0m\u001b[0;34m)\u001b[0m\u001b[0;34m\u001b[0m\u001b[0m\n\u001b[1;32m   1264\u001b[0m         \u001b[0mself\u001b[0m\u001b[0;34m.\u001b[0m\u001b[0mestimate_statistic\u001b[0m\u001b[0;34m(\u001b[0m\u001b[0mestimator\u001b[0m\u001b[0;34m,\u001b[0m \u001b[0mci\u001b[0m\u001b[0;34m,\u001b[0m \u001b[0mn_boot\u001b[0m\u001b[0;34m)\u001b[0m\u001b[0;34m\u001b[0m\u001b[0m\n",
      "\u001b[0;32m/usr/lib/python2.7/dist-packages/seaborn/categorical.pyc\u001b[0m in \u001b[0;36mestablish_variables\u001b[0;34m(self, x, y, hue, data, orient, order, hue_order, units)\u001b[0m\n\u001b[1;32m    191\u001b[0m \u001b[0;34m\u001b[0m\u001b[0m\n\u001b[1;32m    192\u001b[0m                 \u001b[0;31m# Get the order on the categorical axis\u001b[0m\u001b[0;34m\u001b[0m\u001b[0;34m\u001b[0m\u001b[0m\n\u001b[0;32m--> 193\u001b[0;31m                 \u001b[0mgroup_names\u001b[0m \u001b[0;34m=\u001b[0m \u001b[0mcategorical_order\u001b[0m\u001b[0;34m(\u001b[0m\u001b[0mgroups\u001b[0m\u001b[0;34m,\u001b[0m \u001b[0morder\u001b[0m\u001b[0;34m)\u001b[0m\u001b[0;34m\u001b[0m\u001b[0m\n\u001b[0m\u001b[1;32m    194\u001b[0m \u001b[0;34m\u001b[0m\u001b[0m\n\u001b[1;32m    195\u001b[0m                 \u001b[0;31m# Group the numeric data\u001b[0m\u001b[0;34m\u001b[0m\u001b[0;34m\u001b[0m\u001b[0m\n",
      "\u001b[0;32m/usr/lib/python2.7/dist-packages/seaborn/utils.pyc\u001b[0m in \u001b[0;36mcategorical_order\u001b[0;34m(values, order)\u001b[0m\n\u001b[1;32m    520\u001b[0m                     \u001b[0morder\u001b[0m \u001b[0;34m=\u001b[0m \u001b[0mvalues\u001b[0m\u001b[0;34m.\u001b[0m\u001b[0munique\u001b[0m\u001b[0;34m(\u001b[0m\u001b[0;34m)\u001b[0m\u001b[0;34m\u001b[0m\u001b[0m\n\u001b[1;32m    521\u001b[0m                 \u001b[0;32mexcept\u001b[0m \u001b[0mAttributeError\u001b[0m\u001b[0;34m:\u001b[0m\u001b[0;34m\u001b[0m\u001b[0m\n\u001b[0;32m--> 522\u001b[0;31m                     \u001b[0morder\u001b[0m \u001b[0;34m=\u001b[0m \u001b[0mpd\u001b[0m\u001b[0;34m.\u001b[0m\u001b[0munique\u001b[0m\u001b[0;34m(\u001b[0m\u001b[0mvalues\u001b[0m\u001b[0;34m)\u001b[0m\u001b[0;34m\u001b[0m\u001b[0m\n\u001b[0m\u001b[1;32m    523\u001b[0m         \u001b[0morder\u001b[0m \u001b[0;34m=\u001b[0m \u001b[0mfilter\u001b[0m\u001b[0;34m(\u001b[0m\u001b[0mpd\u001b[0m\u001b[0;34m.\u001b[0m\u001b[0mnotnull\u001b[0m\u001b[0;34m,\u001b[0m \u001b[0morder\u001b[0m\u001b[0;34m)\u001b[0m\u001b[0;34m\u001b[0m\u001b[0m\n\u001b[1;32m    524\u001b[0m     \u001b[0;32mreturn\u001b[0m \u001b[0mlist\u001b[0m\u001b[0;34m(\u001b[0m\u001b[0morder\u001b[0m\u001b[0;34m)\u001b[0m\u001b[0;34m\u001b[0m\u001b[0m\n",
      "\u001b[0;32m/usr/local/lib/python2.7/dist-packages/pandas/core/algorithms.pyc\u001b[0m in \u001b[0;36munique\u001b[0;34m(values)\u001b[0m\n\u001b[1;32m    341\u001b[0m     \"\"\"\n\u001b[1;32m    342\u001b[0m \u001b[0;34m\u001b[0m\u001b[0m\n\u001b[0;32m--> 343\u001b[0;31m     \u001b[0mvalues\u001b[0m \u001b[0;34m=\u001b[0m \u001b[0m_ensure_arraylike\u001b[0m\u001b[0;34m(\u001b[0m\u001b[0mvalues\u001b[0m\u001b[0;34m)\u001b[0m\u001b[0;34m\u001b[0m\u001b[0m\n\u001b[0m\u001b[1;32m    344\u001b[0m \u001b[0;34m\u001b[0m\u001b[0m\n\u001b[1;32m    345\u001b[0m     \u001b[0;31m# categorical is a fast-path\u001b[0m\u001b[0;34m\u001b[0m\u001b[0;34m\u001b[0m\u001b[0m\n",
      "\u001b[0;32m/usr/local/lib/python2.7/dist-packages/pandas/core/algorithms.pyc\u001b[0m in \u001b[0;36m_ensure_arraylike\u001b[0;34m(values)\u001b[0m\n\u001b[1;32m    164\u001b[0m         \u001b[0minferred\u001b[0m \u001b[0;34m=\u001b[0m \u001b[0mlib\u001b[0m\u001b[0;34m.\u001b[0m\u001b[0minfer_dtype\u001b[0m\u001b[0;34m(\u001b[0m\u001b[0mvalues\u001b[0m\u001b[0;34m)\u001b[0m\u001b[0;34m\u001b[0m\u001b[0m\n\u001b[1;32m    165\u001b[0m         \u001b[0;32mif\u001b[0m \u001b[0minferred\u001b[0m \u001b[0;32min\u001b[0m \u001b[0;34m[\u001b[0m\u001b[0;34m'mixed'\u001b[0m\u001b[0;34m,\u001b[0m \u001b[0;34m'string'\u001b[0m\u001b[0;34m,\u001b[0m \u001b[0;34m'unicode'\u001b[0m\u001b[0;34m]\u001b[0m\u001b[0;34m:\u001b[0m\u001b[0;34m\u001b[0m\u001b[0m\n\u001b[0;32m--> 166\u001b[0;31m             \u001b[0mvalues\u001b[0m \u001b[0;34m=\u001b[0m \u001b[0mlib\u001b[0m\u001b[0;34m.\u001b[0m\u001b[0mlist_to_object_array\u001b[0m\u001b[0;34m(\u001b[0m\u001b[0mvalues\u001b[0m\u001b[0;34m)\u001b[0m\u001b[0;34m\u001b[0m\u001b[0m\n\u001b[0m\u001b[1;32m    167\u001b[0m         \u001b[0;32melse\u001b[0m\u001b[0;34m:\u001b[0m\u001b[0;34m\u001b[0m\u001b[0m\n\u001b[1;32m    168\u001b[0m             \u001b[0mvalues\u001b[0m \u001b[0;34m=\u001b[0m \u001b[0mnp\u001b[0m\u001b[0;34m.\u001b[0m\u001b[0masarray\u001b[0m\u001b[0;34m(\u001b[0m\u001b[0mvalues\u001b[0m\u001b[0;34m)\u001b[0m\u001b[0;34m\u001b[0m\u001b[0m\n",
      "\u001b[0;31mTypeError\u001b[0m: Argument 'obj' has incorrect type (expected list, got dict)"
     ]
    }
   ],
   "source": [
    "sns.countplot(df.groupby(['PatientID','AppointmentDay']).groups, hue=df.NoShow)"
   ]
  },
  {
   "cell_type": "code",
   "execution_count": null,
   "metadata": {
    "collapsed": true,
    "deletable": true,
    "editable": true
   },
   "outputs": [],
   "source": [
    "df.groupby(['PatientID','AppointmentDay'])[]\n",
    "\n"
   ]
  },
  {
   "cell_type": "code",
   "execution_count": 160,
   "metadata": {
    "collapsed": false,
    "deletable": true,
    "editable": true
   },
   "outputs": [
    {
     "name": "stdout",
     "output_type": "stream",
     "text": [
      "[ 1  2  4  3  5  6  8 10]\n"
     ]
    }
   ],
   "source": [
    "print y.unique()"
   ]
  },
  {
   "cell_type": "code",
   "execution_count": null,
   "metadata": {
    "collapsed": true,
    "deletable": true,
    "editable": true
   },
   "outputs": [],
   "source": []
  }
 ],
 "metadata": {
  "kernelspec": {
   "display_name": "Python 2",
   "language": "python",
   "name": "python2"
  },
  "language_info": {
   "codemirror_mode": {
    "name": "ipython",
    "version": 2
   },
   "file_extension": ".py",
   "mimetype": "text/x-python",
   "name": "python",
   "nbconvert_exporter": "python",
   "pygments_lexer": "ipython2",
   "version": "2.7.12"
  }
 },
 "nbformat": 4,
 "nbformat_minor": 2
}
